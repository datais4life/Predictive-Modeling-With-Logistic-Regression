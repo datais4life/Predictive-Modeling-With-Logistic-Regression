{
 "cells": [
  {
   "cell_type": "markdown",
   "id": "75d3a14e",
   "metadata": {},
   "source": [
    "## WGU D208: Predictive Modeling\n",
    "### Task 2: Logistc Regression"
   ]
  },
  {
   "cell_type": "markdown",
   "id": "6b501bb3",
   "metadata": {},
   "source": [
    "#### Data Acquisition"
   ]
  },
  {
   "cell_type": "code",
   "execution_count": 1,
   "id": "3e02891c",
   "metadata": {
    "scrolled": true
   },
   "outputs": [],
   "source": [
    "# Import the standard libraries.\n",
    "\n",
    "import numpy as np\n",
    "import scipy.stats as stats\n",
    "import statsmodels.api as sm\n",
    "import statsmodels.formula.api as smf\n",
    "from IPython.core.display import HTML\n",
    "from IPython.display import display"
   ]
  },
  {
   "cell_type": "code",
   "execution_count": 2,
   "id": "d73c7a87",
   "metadata": {
    "scrolled": true
   },
   "outputs": [],
   "source": [
    "# Import and configure Matplotlib.\n",
    "\n",
    "import matplotlib.pyplot as plt\n",
    "plt.rc(\"font\", size=14)"
   ]
  },
  {
   "cell_type": "code",
   "execution_count": 3,
   "id": "07a4901c",
   "metadata": {
    "scrolled": true
   },
   "outputs": [],
   "source": [
    "# Import and configure Sklearn.\n",
    "\n",
    "from sklearn.metrics import confusion_matrix\n",
    "from sklearn import preprocessing\n",
    "from sklearn.decomposition import PCA\n",
    "from sklearn.linear_model import LogisticRegression\n",
    "from sklearn.model_selection import train_test_split\n",
    "from sklearn.metrics import roc_auc_score\n",
    "from sklearn.metrics import roc_curve\n",
    "from sklearn.metrics import classification_report\n",
    "from sklearn import metrics"
   ]
  },
  {
   "cell_type": "code",
   "execution_count": 4,
   "id": "08551ad3",
   "metadata": {
    "scrolled": true
   },
   "outputs": [],
   "source": [
    "# Import and configure Seaborn.\n",
    "\n",
    "import seaborn as sns\n",
    "sns.set(style=\"white\")\n",
    "sns.set(style=\"whitegrid\", color_codes=True)"
   ]
  },
  {
   "cell_type": "code",
   "execution_count": 5,
   "id": "b7258eff",
   "metadata": {
    "scrolled": true
   },
   "outputs": [],
   "source": [
    "# Import and configure Pandas.\n",
    "\n",
    "import pandas as pd\n",
    "pd.set_option('display.precision',3)\n",
    "pd.set_option('display.max_columns',9)\n",
    "pd.set_option('display.width', None)"
   ]
  },
  {
   "cell_type": "markdown",
   "id": "8cea181e",
   "metadata": {},
   "source": [
    "##### Disabling the scrollbars in Jupyter Notebook and automatic scroll to the bottom. "
   ]
  },
  {
   "cell_type": "code",
   "execution_count": 6,
   "id": "2f6f4fd7",
   "metadata": {
    "scrolled": true
   },
   "outputs": [
    {
     "data": {
      "application/javascript": [
       "IPython.OutputArea.prototype._should_scroll = function(lines) {\n",
       "    return false;\n",
       "}\n"
      ],
      "text/plain": [
       "<IPython.core.display.Javascript object>"
      ]
     },
     "metadata": {},
     "output_type": "display_data"
    }
   ],
   "source": [
    "%%javascript\n",
    "IPython.OutputArea.prototype._should_scroll = function(lines) {\n",
    "    return false;\n",
    "}"
   ]
  },
  {
   "cell_type": "code",
   "execution_count": 7,
   "id": "354cf046",
   "metadata": {
    "scrolled": true
   },
   "outputs": [
    {
     "data": {
      "application/javascript": [
       "require(\"notebook/js/notebook\").Notebook.prototype.scroll_to_bottom = function () {}\n"
      ],
      "text/plain": [
       "<IPython.core.display.Javascript object>"
      ]
     },
     "metadata": {},
     "output_type": "display_data"
    }
   ],
   "source": [
    "%%javascript\n",
    "require(\"notebook/js/notebook\").Notebook.prototype.scroll_to_bottom = function () {}"
   ]
  },
  {
   "cell_type": "code",
   "execution_count": 8,
   "id": "de9e9075",
   "metadata": {
    "scrolled": true
   },
   "outputs": [
    {
     "data": {
      "text/html": [
       "<script>\n",
       "code_show_err=false; \n",
       "function code_toggle_err() {\n",
       " if (code_show_err){\n",
       " $('div.output_stderr').hide();\n",
       " } else {\n",
       " $('div.output_stderr').show();\n",
       " }\n",
       " code_show_err = !code_show_err\n",
       "} \n",
       "$( document ).ready(code_toggle_err);\n",
       "</script>\n",
       "To toggle on/off output_stderr, click <a href=\"javascript:code_toggle_err()\">here</a>."
      ],
      "text/plain": [
       "<IPython.core.display.HTML object>"
      ]
     },
     "execution_count": 8,
     "metadata": {},
     "output_type": "execute_result"
    }
   ],
   "source": [
    "from IPython.display import HTML\n",
    "HTML('''<script>\n",
    "code_show_err=false; \n",
    "function code_toggle_err() {\n",
    " if (code_show_err){\n",
    " $('div.output_stderr').hide();\n",
    " } else {\n",
    " $('div.output_stderr').show();\n",
    " }\n",
    " code_show_err = !code_show_err\n",
    "} \n",
    "$( document ).ready(code_toggle_err);\n",
    "</script>\n",
    "To toggle on/off output_stderr, click <a href=\"javascript:code_toggle_err()\">here</a>.''')"
   ]
  },
  {
   "cell_type": "code",
   "execution_count": 9,
   "id": "b4827d1a",
   "metadata": {
    "scrolled": true
   },
   "outputs": [
    {
     "data": {
      "text/html": [
       "<div>\n",
       "<style scoped>\n",
       "    .dataframe tbody tr th:only-of-type {\n",
       "        vertical-align: middle;\n",
       "    }\n",
       "\n",
       "    .dataframe tbody tr th {\n",
       "        vertical-align: top;\n",
       "    }\n",
       "\n",
       "    .dataframe thead th {\n",
       "        text-align: right;\n",
       "    }\n",
       "</style>\n",
       "<table border=\"1\" class=\"dataframe\">\n",
       "  <thead>\n",
       "    <tr style=\"text-align: right;\">\n",
       "      <th></th>\n",
       "      <th>CaseOrder</th>\n",
       "      <th>Customer_id</th>\n",
       "      <th>Interaction</th>\n",
       "      <th>UID</th>\n",
       "      <th>...</th>\n",
       "      <th>Item5</th>\n",
       "      <th>Item6</th>\n",
       "      <th>Item7</th>\n",
       "      <th>Item8</th>\n",
       "    </tr>\n",
       "  </thead>\n",
       "  <tbody>\n",
       "    <tr>\n",
       "      <th>0</th>\n",
       "      <td>1</td>\n",
       "      <td>K409198</td>\n",
       "      <td>aa90260b-4141-4a24-8e36-b04ce1f4f77b</td>\n",
       "      <td>e885b299883d4f9fb18e39c75155d990</td>\n",
       "      <td>...</td>\n",
       "      <td>4</td>\n",
       "      <td>4</td>\n",
       "      <td>3</td>\n",
       "      <td>4</td>\n",
       "    </tr>\n",
       "    <tr>\n",
       "      <th>1</th>\n",
       "      <td>2</td>\n",
       "      <td>S120509</td>\n",
       "      <td>fb76459f-c047-4a9d-8af9-e0f7d4ac2524</td>\n",
       "      <td>f2de8bef964785f41a2959829830fb8a</td>\n",
       "      <td>...</td>\n",
       "      <td>4</td>\n",
       "      <td>3</td>\n",
       "      <td>4</td>\n",
       "      <td>4</td>\n",
       "    </tr>\n",
       "    <tr>\n",
       "      <th>2</th>\n",
       "      <td>3</td>\n",
       "      <td>K191035</td>\n",
       "      <td>344d114c-3736-4be5-98f7-c72c281e2d35</td>\n",
       "      <td>f1784cfa9f6d92ae816197eb175d3c71</td>\n",
       "      <td>...</td>\n",
       "      <td>4</td>\n",
       "      <td>3</td>\n",
       "      <td>3</td>\n",
       "      <td>3</td>\n",
       "    </tr>\n",
       "    <tr>\n",
       "      <th>3</th>\n",
       "      <td>4</td>\n",
       "      <td>D90850</td>\n",
       "      <td>abfa2b40-2d43-4994-b15a-989b8c79e311</td>\n",
       "      <td>dc8a365077241bb5cd5ccd305136b05e</td>\n",
       "      <td>...</td>\n",
       "      <td>5</td>\n",
       "      <td>4</td>\n",
       "      <td>3</td>\n",
       "      <td>3</td>\n",
       "    </tr>\n",
       "    <tr>\n",
       "      <th>4</th>\n",
       "      <td>5</td>\n",
       "      <td>K662701</td>\n",
       "      <td>68a861fd-0d20-4e51-a587-8a90407ee574</td>\n",
       "      <td>aabb64a116e83fdc4befc1fbab1663f9</td>\n",
       "      <td>...</td>\n",
       "      <td>4</td>\n",
       "      <td>4</td>\n",
       "      <td>4</td>\n",
       "      <td>5</td>\n",
       "    </tr>\n",
       "  </tbody>\n",
       "</table>\n",
       "<p>5 rows × 50 columns</p>\n",
       "</div>"
      ],
      "text/plain": [
       "   CaseOrder Customer_id                           Interaction  \\\n",
       "0          1     K409198  aa90260b-4141-4a24-8e36-b04ce1f4f77b   \n",
       "1          2     S120509  fb76459f-c047-4a9d-8af9-e0f7d4ac2524   \n",
       "2          3     K191035  344d114c-3736-4be5-98f7-c72c281e2d35   \n",
       "3          4      D90850  abfa2b40-2d43-4994-b15a-989b8c79e311   \n",
       "4          5     K662701  68a861fd-0d20-4e51-a587-8a90407ee574   \n",
       "\n",
       "                                UID  ... Item5 Item6 Item7  Item8  \n",
       "0  e885b299883d4f9fb18e39c75155d990  ...     4     4     3      4  \n",
       "1  f2de8bef964785f41a2959829830fb8a  ...     4     3     4      4  \n",
       "2  f1784cfa9f6d92ae816197eb175d3c71  ...     4     3     3      3  \n",
       "3  dc8a365077241bb5cd5ccd305136b05e  ...     5     4     3      3  \n",
       "4  aabb64a116e83fdc4befc1fbab1663f9  ...     4     4     4      5  \n",
       "\n",
       "[5 rows x 50 columns]"
      ]
     },
     "execution_count": 9,
     "metadata": {},
     "output_type": "execute_result"
    }
   ],
   "source": [
    "# Load the CSV file\n",
    "df = pd.read_csv('/churn_clean.csv')\n",
    "df.head()"
   ]
  },
  {
   "cell_type": "code",
   "execution_count": 10,
   "id": "ec3dc29e",
   "metadata": {
    "scrolled": true
   },
   "outputs": [
    {
     "data": {
      "text/plain": [
       "Index(['CaseOrder', 'Customer_id', 'Interaction', 'UID', 'City', 'State',\n",
       "       'County', 'Zip', 'Lat', 'Lng', 'Population', 'Area', 'TimeZone', 'Job',\n",
       "       'Children', 'Age', 'Income', 'Marital', 'Gender', 'Churn',\n",
       "       'Outage_sec_perweek', 'Email', 'Contacts', 'Yearly_equip_failure',\n",
       "       'Techie', 'Contract', 'Port_modem', 'Tablet', 'InternetService',\n",
       "       'Phone', 'Multiple', 'OnlineSecurity', 'OnlineBackup',\n",
       "       'DeviceProtection', 'TechSupport', 'StreamingTV', 'StreamingMovies',\n",
       "       'PaperlessBilling', 'PaymentMethod', 'Tenure', 'MonthlyCharge',\n",
       "       'Bandwidth_GB_Year', 'Item1', 'Item2', 'Item3', 'Item4', 'Item5',\n",
       "       'Item6', 'Item7', 'Item8'],\n",
       "      dtype='object')"
      ]
     },
     "execution_count": 10,
     "metadata": {},
     "output_type": "execute_result"
    }
   ],
   "source": [
    "# List of the variables in the data frame.\n",
    "df.columns"
   ]
  },
  {
   "cell_type": "code",
   "execution_count": 11,
   "id": "0b6d2dde",
   "metadata": {
    "scrolled": true
   },
   "outputs": [
    {
     "data": {
      "text/plain": [
       "(10000, 50)"
      ]
     },
     "execution_count": 11,
     "metadata": {},
     "output_type": "execute_result"
    }
   ],
   "source": [
    "# Show the shape of the data frame.\n",
    "df.shape"
   ]
  },
  {
   "cell_type": "markdown",
   "id": "733249bc",
   "metadata": {},
   "source": [
    "#### Data Cleaning"
   ]
  },
  {
   "cell_type": "code",
   "execution_count": 12,
   "id": "bb0f6836",
   "metadata": {
    "scrolled": true
   },
   "outputs": [
    {
     "data": {
      "text/plain": [
       "Index(['CaseOrder', 'Customer_id', 'Interaction', 'UID', 'City', 'State',\n",
       "       'County', 'Zip', 'Lat', 'Lng', 'Population', 'Area', 'TimeZone', 'Job',\n",
       "       'Children', 'Age', 'Income', 'Marital', 'Gender', 'Churn',\n",
       "       'Outage_sec_perweek', 'Email', 'Contacts', 'Yearly_equip_failure',\n",
       "       'Techie', 'Contract', 'Port_modem', 'Tablet', 'InternetService',\n",
       "       'Phone', 'Multiple', 'OnlineSecurity', 'OnlineBackup',\n",
       "       'DeviceProtection', 'TechSupport', 'StreamingTV', 'StreamingMovies',\n",
       "       'PaperlessBilling', 'PaymentMethod', 'Tenure', 'MonthlyCharge',\n",
       "       'Bandwidth_GB_Year', 'TimelyResponse', 'TimelyFixes',\n",
       "       'TimelyReplacements', 'Reliability', 'Options', 'RespectfulResponse',\n",
       "       'CourteousExchange', 'ActiveListening'],\n",
       "      dtype='object')"
      ]
     },
     "execution_count": 12,
     "metadata": {},
     "output_type": "execute_result"
    }
   ],
   "source": [
    "# Rename the last 8 columns from the customer survey.\n",
    "\n",
    "df.rename(columns = {'Item1': 'TimelyResponse', \n",
    "          'Item2': 'TimelyFixes', \n",
    "          'Item3': 'TimelyReplacements', \n",
    "          'Item4': 'Reliability', \n",
    "          'Item5': 'Options', \n",
    "          'Item6': 'RespectfulResponse',\n",
    "          'Item7': 'CourteousExchange',\n",
    "          'Item8': 'ActiveListening'}, \n",
    "          inplace = True)\n",
    "df.columns"
   ]
  },
  {
   "cell_type": "code",
   "execution_count": 13,
   "id": "b65917da",
   "metadata": {
    "scrolled": true
   },
   "outputs": [
    {
     "data": {
      "text/plain": [
       "CaseOrder               0\n",
       "Customer_id             0\n",
       "Interaction             0\n",
       "UID                     0\n",
       "City                    0\n",
       "State                   0\n",
       "County                  0\n",
       "Zip                     0\n",
       "Lat                     0\n",
       "Lng                     0\n",
       "Population              0\n",
       "Area                    0\n",
       "TimeZone                0\n",
       "Job                     0\n",
       "Children                0\n",
       "Age                     0\n",
       "Income                  0\n",
       "Marital                 0\n",
       "Gender                  0\n",
       "Churn                   0\n",
       "Outage_sec_perweek      0\n",
       "Email                   0\n",
       "Contacts                0\n",
       "Yearly_equip_failure    0\n",
       "Techie                  0\n",
       "Contract                0\n",
       "Port_modem              0\n",
       "Tablet                  0\n",
       "InternetService         0\n",
       "Phone                   0\n",
       "Multiple                0\n",
       "OnlineSecurity          0\n",
       "OnlineBackup            0\n",
       "DeviceProtection        0\n",
       "TechSupport             0\n",
       "StreamingTV             0\n",
       "StreamingMovies         0\n",
       "PaperlessBilling        0\n",
       "PaymentMethod           0\n",
       "Tenure                  0\n",
       "MonthlyCharge           0\n",
       "Bandwidth_GB_Year       0\n",
       "TimelyResponse          0\n",
       "TimelyFixes             0\n",
       "TimelyReplacements      0\n",
       "Reliability             0\n",
       "Options                 0\n",
       "RespectfulResponse      0\n",
       "CourteousExchange       0\n",
       "ActiveListening         0\n",
       "dtype: int64"
      ]
     },
     "execution_count": 13,
     "metadata": {},
     "output_type": "execute_result"
    }
   ],
   "source": [
    "# Check for missing values.\n",
    "df.isnull().sum()"
   ]
  },
  {
   "cell_type": "code",
   "execution_count": 14,
   "id": "389ec82a",
   "metadata": {
    "scrolled": true
   },
   "outputs": [
    {
     "data": {
      "text/plain": [
       "False"
      ]
     },
     "execution_count": 14,
     "metadata": {},
     "output_type": "execute_result"
    }
   ],
   "source": [
    "# Search for duplicated columns.\n",
    "df.columns.duplicated().any()"
   ]
  },
  {
   "cell_type": "code",
   "execution_count": 15,
   "id": "018c0fce",
   "metadata": {
    "scrolled": true
   },
   "outputs": [
    {
     "data": {
      "text/plain": [
       "False"
      ]
     },
     "execution_count": 15,
     "metadata": {},
     "output_type": "execute_result"
    }
   ],
   "source": [
    "# Search for duplicated rows.\n",
    "df.duplicated().any()"
   ]
  },
  {
   "cell_type": "code",
   "execution_count": 16,
   "id": "8e227df2",
   "metadata": {
    "scrolled": true
   },
   "outputs": [
    {
     "data": {
      "text/html": [
       "<div>\n",
       "<style scoped>\n",
       "    .dataframe tbody tr th:only-of-type {\n",
       "        vertical-align: middle;\n",
       "    }\n",
       "\n",
       "    .dataframe tbody tr th {\n",
       "        vertical-align: top;\n",
       "    }\n",
       "\n",
       "    .dataframe thead th {\n",
       "        text-align: right;\n",
       "    }\n",
       "</style>\n",
       "<table border=\"1\" class=\"dataframe\">\n",
       "  <thead>\n",
       "    <tr style=\"text-align: right;\">\n",
       "      <th></th>\n",
       "      <th>Population</th>\n",
       "      <th>Area</th>\n",
       "      <th>Children</th>\n",
       "      <th>Age</th>\n",
       "      <th>...</th>\n",
       "      <th>PaymentMethod</th>\n",
       "      <th>Tenure</th>\n",
       "      <th>MonthlyCharge</th>\n",
       "      <th>Bandwidth_GB_Year</th>\n",
       "    </tr>\n",
       "  </thead>\n",
       "  <tbody>\n",
       "    <tr>\n",
       "      <th>0</th>\n",
       "      <td>38</td>\n",
       "      <td>Urban</td>\n",
       "      <td>0</td>\n",
       "      <td>68</td>\n",
       "      <td>...</td>\n",
       "      <td>Credit Card (automatic)</td>\n",
       "      <td>6.796</td>\n",
       "      <td>172.456</td>\n",
       "      <td>904.536</td>\n",
       "    </tr>\n",
       "    <tr>\n",
       "      <th>1</th>\n",
       "      <td>10446</td>\n",
       "      <td>Urban</td>\n",
       "      <td>1</td>\n",
       "      <td>27</td>\n",
       "      <td>...</td>\n",
       "      <td>Bank Transfer(automatic)</td>\n",
       "      <td>1.157</td>\n",
       "      <td>242.633</td>\n",
       "      <td>800.983</td>\n",
       "    </tr>\n",
       "    <tr>\n",
       "      <th>2</th>\n",
       "      <td>3735</td>\n",
       "      <td>Urban</td>\n",
       "      <td>4</td>\n",
       "      <td>50</td>\n",
       "      <td>...</td>\n",
       "      <td>Credit Card (automatic)</td>\n",
       "      <td>15.754</td>\n",
       "      <td>159.948</td>\n",
       "      <td>2054.707</td>\n",
       "    </tr>\n",
       "    <tr>\n",
       "      <th>3</th>\n",
       "      <td>13863</td>\n",
       "      <td>Suburban</td>\n",
       "      <td>1</td>\n",
       "      <td>48</td>\n",
       "      <td>...</td>\n",
       "      <td>Mailed Check</td>\n",
       "      <td>17.087</td>\n",
       "      <td>119.957</td>\n",
       "      <td>2164.579</td>\n",
       "    </tr>\n",
       "    <tr>\n",
       "      <th>4</th>\n",
       "      <td>11352</td>\n",
       "      <td>Suburban</td>\n",
       "      <td>0</td>\n",
       "      <td>83</td>\n",
       "      <td>...</td>\n",
       "      <td>Mailed Check</td>\n",
       "      <td>1.671</td>\n",
       "      <td>149.948</td>\n",
       "      <td>271.493</td>\n",
       "    </tr>\n",
       "  </tbody>\n",
       "</table>\n",
       "<p>5 rows × 30 columns</p>\n",
       "</div>"
      ],
      "text/plain": [
       "   Population      Area  Children  Age  ...             PaymentMethod  Tenure  \\\n",
       "0          38     Urban         0   68  ...   Credit Card (automatic)   6.796   \n",
       "1       10446     Urban         1   27  ...  Bank Transfer(automatic)   1.157   \n",
       "2        3735     Urban         4   50  ...   Credit Card (automatic)  15.754   \n",
       "3       13863  Suburban         1   48  ...              Mailed Check  17.087   \n",
       "4       11352  Suburban         0   83  ...              Mailed Check   1.671   \n",
       "\n",
       "  MonthlyCharge Bandwidth_GB_Year  \n",
       "0       172.456           904.536  \n",
       "1       242.633           800.983  \n",
       "2       159.948          2054.707  \n",
       "3       119.957          2164.579  \n",
       "4       149.948           271.493  \n",
       "\n",
       "[5 rows x 30 columns]"
      ]
     },
     "execution_count": 16,
     "metadata": {},
     "output_type": "execute_result"
    }
   ],
   "source": [
    "# Remove data with a high degree of cardinality and rename the data frame to preserve data.\n",
    "\n",
    "df2 = df.drop(['CaseOrder', 'Customer_id', 'Interaction', 'UID', 'City', 'State',\n",
    "       'County', 'Zip', 'Lat', 'Lng', 'TimeZone', 'Job', 'TimelyResponse', 'TimelyFixes',\n",
    "       'TimelyReplacements', 'Reliability', 'Options', 'RespectfulResponse',\n",
    "       'CourteousExchange', 'ActiveListening' ], axis = 1)\n",
    "df2.head()"
   ]
  },
  {
   "cell_type": "code",
   "execution_count": 17,
   "id": "43b502f0",
   "metadata": {
    "scrolled": true
   },
   "outputs": [
    {
     "data": {
      "text/plain": [
       "(9175, 30)"
      ]
     },
     "execution_count": 17,
     "metadata": {},
     "output_type": "execute_result"
    }
   ],
   "source": [
    "# Detect outliers with the z-score of each numerical variable.\n",
    "\n",
    "# Gather only the numerical data.\n",
    "df_numerical = df2.select_dtypes(exclude = 'object')\n",
    "\n",
    "# Calculate the z-scores.\n",
    "z_scores = stats.zscore(df_numerical)\n",
    "\n",
    "# Get the absolute values.\n",
    "abs_z_scores = np.abs(z_scores)\n",
    "\n",
    "# Select the data points with a z-score above or below 3. \n",
    "filtered_scores = (abs_z_scores < 3).all(axis = 1)\n",
    "\n",
    "# Filter the data set.\n",
    "df_wo_outliers = df2[filtered_scores]\n",
    "df_wo_outliers.shape"
   ]
  },
  {
   "cell_type": "code",
   "execution_count": 18,
   "id": "e9a544c2",
   "metadata": {
    "scrolled": true
   },
   "outputs": [
    {
     "data": {
      "text/plain": [
       "Index(['Population', 'Area', 'Children', 'Age', 'Income', 'Marital', 'Gender',\n",
       "       'Churn', 'Outage_sec_perweek', 'Email', 'Contacts',\n",
       "       'Yearly_equip_failure', 'Techie', 'Contract', 'Port_modem', 'Tablet',\n",
       "       'InternetService', 'Phone', 'Multiple', 'OnlineSecurity',\n",
       "       'OnlineBackup', 'DeviceProtection', 'TechSupport', 'StreamingTV',\n",
       "       'StreamingMovies', 'PaperlessBilling', 'PaymentMethod', 'Tenure',\n",
       "       'MonthlyCharge', 'Bandwidth_GB_Year'],\n",
       "      dtype='object')"
      ]
     },
     "execution_count": 18,
     "metadata": {},
     "output_type": "execute_result"
    }
   ],
   "source": [
    "# Rename the clean data frame.\n",
    "\n",
    "clean = df_wo_outliers.copy()\n",
    "clean.columns"
   ]
  },
  {
   "cell_type": "markdown",
   "id": "2290ace1",
   "metadata": {},
   "source": [
    "#### Data Exploration"
   ]
  },
  {
   "cell_type": "code",
   "execution_count": 19,
   "id": "8d80347b",
   "metadata": {
    "scrolled": true
   },
   "outputs": [
    {
     "data": {
      "text/html": [
       "<div>\n",
       "<style scoped>\n",
       "    .dataframe tbody tr th:only-of-type {\n",
       "        vertical-align: middle;\n",
       "    }\n",
       "\n",
       "    .dataframe tbody tr th {\n",
       "        vertical-align: top;\n",
       "    }\n",
       "\n",
       "    .dataframe thead th {\n",
       "        text-align: right;\n",
       "    }\n",
       "</style>\n",
       "<table border=\"1\" class=\"dataframe\">\n",
       "  <thead>\n",
       "    <tr style=\"text-align: right;\">\n",
       "      <th></th>\n",
       "      <th>Population</th>\n",
       "      <th>Children</th>\n",
       "      <th>Age</th>\n",
       "      <th>Income</th>\n",
       "      <th>...</th>\n",
       "      <th>Yearly_equip_failure</th>\n",
       "      <th>Tenure</th>\n",
       "      <th>MonthlyCharge</th>\n",
       "      <th>Bandwidth_GB_Year</th>\n",
       "    </tr>\n",
       "  </thead>\n",
       "  <tbody>\n",
       "    <tr>\n",
       "      <th>count</th>\n",
       "      <td>9175.000</td>\n",
       "      <td>9175.000</td>\n",
       "      <td>9175.000</td>\n",
       "      <td>9175.000</td>\n",
       "      <td>...</td>\n",
       "      <td>9175.000</td>\n",
       "      <td>9175.000</td>\n",
       "      <td>9175.000</td>\n",
       "      <td>9175.000</td>\n",
       "    </tr>\n",
       "    <tr>\n",
       "      <th>mean</th>\n",
       "      <td>8527.719</td>\n",
       "      <td>1.945</td>\n",
       "      <td>53.078</td>\n",
       "      <td>38298.941</td>\n",
       "      <td>...</td>\n",
       "      <td>0.374</td>\n",
       "      <td>34.440</td>\n",
       "      <td>172.730</td>\n",
       "      <td>3380.574</td>\n",
       "    </tr>\n",
       "    <tr>\n",
       "      <th>std</th>\n",
       "      <td>11802.987</td>\n",
       "      <td>1.897</td>\n",
       "      <td>20.653</td>\n",
       "      <td>25056.127</td>\n",
       "      <td>...</td>\n",
       "      <td>0.582</td>\n",
       "      <td>26.451</td>\n",
       "      <td>42.994</td>\n",
       "      <td>2186.226</td>\n",
       "    </tr>\n",
       "    <tr>\n",
       "      <th>min</th>\n",
       "      <td>0.000</td>\n",
       "      <td>0.000</td>\n",
       "      <td>18.000</td>\n",
       "      <td>348.670</td>\n",
       "      <td>...</td>\n",
       "      <td>0.000</td>\n",
       "      <td>1.005</td>\n",
       "      <td>79.979</td>\n",
       "      <td>155.507</td>\n",
       "    </tr>\n",
       "    <tr>\n",
       "      <th>25%</th>\n",
       "      <td>720.500</td>\n",
       "      <td>0.000</td>\n",
       "      <td>35.000</td>\n",
       "      <td>19102.015</td>\n",
       "      <td>...</td>\n",
       "      <td>0.000</td>\n",
       "      <td>7.894</td>\n",
       "      <td>139.979</td>\n",
       "      <td>1225.876</td>\n",
       "    </tr>\n",
       "    <tr>\n",
       "      <th>50%</th>\n",
       "      <td>2723.000</td>\n",
       "      <td>1.000</td>\n",
       "      <td>53.000</td>\n",
       "      <td>32783.940</td>\n",
       "      <td>...</td>\n",
       "      <td>0.000</td>\n",
       "      <td>30.178</td>\n",
       "      <td>169.938</td>\n",
       "      <td>3158.141</td>\n",
       "    </tr>\n",
       "    <tr>\n",
       "      <th>75%</th>\n",
       "      <td>11866.000</td>\n",
       "      <td>3.000</td>\n",
       "      <td>71.000</td>\n",
       "      <td>52139.615</td>\n",
       "      <td>...</td>\n",
       "      <td>1.000</td>\n",
       "      <td>61.415</td>\n",
       "      <td>202.443</td>\n",
       "      <td>5581.681</td>\n",
       "    </tr>\n",
       "    <tr>\n",
       "      <th>max</th>\n",
       "      <td>52967.000</td>\n",
       "      <td>8.000</td>\n",
       "      <td>89.000</td>\n",
       "      <td>124025.100</td>\n",
       "      <td>...</td>\n",
       "      <td>2.000</td>\n",
       "      <td>71.999</td>\n",
       "      <td>290.160</td>\n",
       "      <td>7158.982</td>\n",
       "    </tr>\n",
       "  </tbody>\n",
       "</table>\n",
       "<p>8 rows × 11 columns</p>\n",
       "</div>"
      ],
      "text/plain": [
       "       Population  Children       Age      Income  ...  Yearly_equip_failure  \\\n",
       "count    9175.000  9175.000  9175.000    9175.000  ...              9175.000   \n",
       "mean     8527.719     1.945    53.078   38298.941  ...                 0.374   \n",
       "std     11802.987     1.897    20.653   25056.127  ...                 0.582   \n",
       "min         0.000     0.000    18.000     348.670  ...                 0.000   \n",
       "25%       720.500     0.000    35.000   19102.015  ...                 0.000   \n",
       "50%      2723.000     1.000    53.000   32783.940  ...                 0.000   \n",
       "75%     11866.000     3.000    71.000   52139.615  ...                 1.000   \n",
       "max     52967.000     8.000    89.000  124025.100  ...                 2.000   \n",
       "\n",
       "         Tenure  MonthlyCharge  Bandwidth_GB_Year  \n",
       "count  9175.000       9175.000           9175.000  \n",
       "mean     34.440        172.730           3380.574  \n",
       "std      26.451         42.994           2186.226  \n",
       "min       1.005         79.979            155.507  \n",
       "25%       7.894        139.979           1225.876  \n",
       "50%      30.178        169.938           3158.141  \n",
       "75%      61.415        202.443           5581.681  \n",
       "max      71.999        290.160           7158.982  \n",
       "\n",
       "[8 rows x 11 columns]"
      ]
     },
     "execution_count": 19,
     "metadata": {},
     "output_type": "execute_result"
    }
   ],
   "source": [
    "# Variable Statistics of the numerical variables.\n",
    "clean.describe()"
   ]
  },
  {
   "cell_type": "code",
   "execution_count": 20,
   "id": "cca14112",
   "metadata": {
    "scrolled": true
   },
   "outputs": [
    {
     "name": "stdout",
     "output_type": "stream",
     "text": [
      "\n",
      "Population is numerical:\n",
      "\trange = 0 - 52967\n",
      "\tmean = 8527.72 +/- 11802.99\n",
      "\n",
      "Area is categorical: ['Urban' 'Suburban' 'Rural'].\n",
      "\n",
      "Children is numerical:\n",
      "\trange = 0 - 8\n",
      "\tmean = 1.95 +/- 1.90\n",
      "\n",
      "Age is numerical:\n",
      "\trange = 18 - 89\n",
      "\tmean = 53.08 +/- 20.65\n",
      "\n",
      "Income is numerical:\n",
      "\trange = 348.67 - 124025.1\n",
      "\tmean = 38298.94 +/- 25056.13\n",
      "\n",
      "Marital is categorical: ['Widowed' 'Married' 'Separated' 'Never Married' 'Divorced'].\n",
      "\n",
      "Gender is categorical: ['Male' 'Female' 'Nonbinary'].\n",
      "\n",
      "Churn is categorical: ['No' 'Yes'].\n",
      "\n",
      "Outage_sec_perweek is numerical:\n",
      "\trange = 1.144796 - 18.85173\n",
      "\tmean = 10.01 +/- 2.93\n",
      "\n",
      "Email is numerical:\n",
      "\trange = 3 - 21\n",
      "\tmean = 12.02 +/- 3.01\n",
      "\n",
      "Contacts is numerical:\n",
      "\trange = 0 - 3\n",
      "\tmean = 0.94 +/- 0.90\n",
      "\n",
      "Yearly_equip_failure is numerical:\n",
      "\trange = 0 - 2\n",
      "\tmean = 0.37 +/- 0.58\n",
      "\n",
      "Techie is categorical: ['No' 'Yes'].\n",
      "\n",
      "Contract is categorical: ['One year' 'Month-to-month' 'Two Year'].\n",
      "\n",
      "Port_modem is categorical: ['Yes' 'No'].\n",
      "\n",
      "Tablet is categorical: ['Yes' 'No'].\n",
      "\n",
      "InternetService is categorical: ['Fiber Optic' 'DSL' 'None'].\n",
      "\n",
      "Phone is categorical: ['Yes' 'No'].\n",
      "\n",
      "Multiple is categorical: ['No' 'Yes'].\n",
      "\n",
      "OnlineSecurity is categorical: ['Yes' 'No'].\n",
      "\n",
      "OnlineBackup is categorical: ['Yes' 'No'].\n",
      "\n",
      "DeviceProtection is categorical: ['No' 'Yes'].\n",
      "\n",
      "TechSupport is categorical: ['No' 'Yes'].\n",
      "\n",
      "StreamingTV is categorical: ['No' 'Yes'].\n",
      "\n",
      "StreamingMovies is categorical: ['Yes' 'No'].\n",
      "\n",
      "PaperlessBilling is categorical: ['Yes' 'No'].\n",
      "\n",
      "PaymentMethod is categorical: ['Credit Card (automatic)' 'Bank Transfer(automatic)' 'Mailed Check'\n",
      " 'Electronic Check'].\n",
      "\n",
      "Tenure is numerical:\n",
      "\trange = 1.005104 - 71.99928\n",
      "\tmean = 34.44 +/- 26.45\n",
      "\n",
      "MonthlyCharge is numerical:\n",
      "\trange = 79.97886 - 290.160419\n",
      "\tmean = 172.73 +/- 42.99\n",
      "\n",
      "Bandwidth_GB_Year is numerical:\n",
      "\trange = 155.5067148 - 7158.98153\n",
      "\tmean = 3380.57 +/- 2186.23\n"
     ]
    }
   ],
   "source": [
    "# Show the variables to be analyzed.\n",
    "\n",
    "for c in clean.loc[:, clean.columns]:\n",
    "    if clean.dtypes[c] == \"object\":\n",
    "        print('\\n{} is categorical: {}.'.format(c,clean[c].unique()))\n",
    "    else:\n",
    "        print('\\n{} is numerical:'.format(c ))\n",
    "        print('\\trange = {} - {}'.format(clean[c].min(),clean[c].max()))\n",
    "        print('\\tmean = {:.2f} +/- {:.2f}'.format(clean[c].mean(), clean[c].std()))"
   ]
  },
  {
   "cell_type": "markdown",
   "id": "9246536b",
   "metadata": {},
   "source": [
    "##### Target Variable"
   ]
  },
  {
   "cell_type": "code",
   "execution_count": 21,
   "id": "ddd0eced",
   "metadata": {
    "scrolled": true
   },
   "outputs": [
    {
     "name": "stdout",
     "output_type": "stream",
     "text": [
      "\n",
      "1. Churn is categorical: ['No' 'Yes'].\n",
      "\tNo      :  6739\n",
      "\tYes     :  2436\n"
     ]
    }
   ],
   "source": [
    "# Explore the target variable.\n",
    "\n",
    "target = 'Churn'\n",
    "\n",
    "for idx, c in enumerate(clean.loc[:, clean.columns == target]):\n",
    "    if clean.dtypes[c] == \"object\":\n",
    "        print('\\n{}. {} is categorical: {}.'.format(idx+1,c,clean[c].unique()))\n",
    "        for idx,name in enumerate(clean[c].value_counts().index.tolist()):\n",
    "            print('\\t{:<8}:{:>6}'.format(name,clean[c].value_counts()[idx]))\n",
    "    else:\n",
    "        print('\\n{}. {} is numerical.'.format(idx+1, c))"
   ]
  },
  {
   "cell_type": "code",
   "execution_count": 22,
   "id": "4fce0816",
   "metadata": {
    "scrolled": true
   },
   "outputs": [
    {
     "name": "stdout",
     "output_type": "stream",
     "text": [
      "No     6739\n",
      "Yes    2436\n",
      "Name: Churn, dtype: int64\n"
     ]
    },
    {
     "data": {
      "image/png": "[encoded data removed]",
      "text/plain": [
       "<Figure size 432x288 with 1 Axes>"
      ]
     },
     "metadata": {
      "needs_background": "light"
     },
     "output_type": "display_data"
    }
   ],
   "source": [
    "# Plot the target data.\n",
    "\n",
    "print(clean[target].value_counts())\n",
    "sns.countplot(x=target, data=clean, palette='hls')\n",
    "plt.show()"
   ]
  },
  {
   "cell_type": "code",
   "execution_count": 23,
   "id": "10472a40",
   "metadata": {
    "scrolled": true
   },
   "outputs": [
    {
     "name": "stdout",
     "output_type": "stream",
     "text": [
      "% of customers that did not churn: 73.4%\n",
      "% of customers that did churn: 26.6%\n"
     ]
    }
   ],
   "source": [
    "# Calculate the churn ratio.\n",
    "\n",
    "count_no_churn = len(clean[clean[target]=='No'])\n",
    "count_churn = len(clean[clean[target]=='Yes'])\n",
    "pct_of_no_churn = count_no_churn/(count_no_churn+count_churn)\n",
    "pct_of_churn = count_churn/(count_no_churn+count_churn)\n",
    "print('% of customers that did not churn: {:.1%}'.format(pct_of_no_churn ))\n",
    "print('% of customers that did churn: {:.1%}'.format(pct_of_churn ))"
   ]
  },
  {
   "cell_type": "code",
   "execution_count": 24,
   "id": "a902a624",
   "metadata": {
    "scrolled": true
   },
   "outputs": [
    {
     "data": {
      "text/html": [
       "<div>\n",
       "<style scoped>\n",
       "    .dataframe tbody tr th:only-of-type {\n",
       "        vertical-align: middle;\n",
       "    }\n",
       "\n",
       "    .dataframe tbody tr th {\n",
       "        vertical-align: top;\n",
       "    }\n",
       "\n",
       "    .dataframe thead th {\n",
       "        text-align: right;\n",
       "    }\n",
       "</style>\n",
       "<table border=\"1\" class=\"dataframe\">\n",
       "  <thead>\n",
       "    <tr style=\"text-align: right;\">\n",
       "      <th>Churn</th>\n",
       "      <th>No</th>\n",
       "      <th>Yes</th>\n",
       "    </tr>\n",
       "  </thead>\n",
       "  <tbody>\n",
       "    <tr>\n",
       "      <th>Population</th>\n",
       "      <td>8531.24</td>\n",
       "      <td>8517.97</td>\n",
       "    </tr>\n",
       "    <tr>\n",
       "      <th>Children</th>\n",
       "      <td>1.94</td>\n",
       "      <td>1.95</td>\n",
       "    </tr>\n",
       "    <tr>\n",
       "      <th>Age</th>\n",
       "      <td>52.94</td>\n",
       "      <td>53.46</td>\n",
       "    </tr>\n",
       "    <tr>\n",
       "      <th>Income</th>\n",
       "      <td>38297.90</td>\n",
       "      <td>38301.83</td>\n",
       "    </tr>\n",
       "    <tr>\n",
       "      <th>Outage_sec_perweek</th>\n",
       "      <td>10.00</td>\n",
       "      <td>10.02</td>\n",
       "    </tr>\n",
       "    <tr>\n",
       "      <th>Email</th>\n",
       "      <td>11.99</td>\n",
       "      <td>12.11</td>\n",
       "    </tr>\n",
       "    <tr>\n",
       "      <th>Contacts</th>\n",
       "      <td>0.94</td>\n",
       "      <td>0.95</td>\n",
       "    </tr>\n",
       "    <tr>\n",
       "      <th>Yearly_equip_failure</th>\n",
       "      <td>0.38</td>\n",
       "      <td>0.37</td>\n",
       "    </tr>\n",
       "    <tr>\n",
       "      <th>Tenure</th>\n",
       "      <td>42.19</td>\n",
       "      <td>13.00</td>\n",
       "    </tr>\n",
       "    <tr>\n",
       "      <th>MonthlyCharge</th>\n",
       "      <td>163.13</td>\n",
       "      <td>199.28</td>\n",
       "    </tr>\n",
       "    <tr>\n",
       "      <th>Bandwidth_GB_Year</th>\n",
       "      <td>3963.10</td>\n",
       "      <td>1769.08</td>\n",
       "    </tr>\n",
       "  </tbody>\n",
       "</table>\n",
       "</div>"
      ],
      "text/plain": [
       "Churn                       No       Yes\n",
       "Population             8531.24   8517.97\n",
       "Children                  1.94      1.95\n",
       "Age                      52.94     53.46\n",
       "Income                38297.90  38301.83\n",
       "Outage_sec_perweek       10.00     10.02\n",
       "Email                    11.99     12.11\n",
       "Contacts                  0.94      0.95\n",
       "Yearly_equip_failure      0.38      0.37\n",
       "Tenure                   42.19     13.00\n",
       "MonthlyCharge           163.13    199.28\n",
       "Bandwidth_GB_Year      3963.10   1769.08"
      ]
     },
     "execution_count": 24,
     "metadata": {},
     "output_type": "execute_result"
    }
   ],
   "source": [
    "# Calculate the numerical mean data compared to the target.\n",
    "clean.groupby(target).mean().round(2).T"
   ]
  },
  {
   "cell_type": "markdown",
   "id": "4399e346",
   "metadata": {},
   "source": [
    "#### Data Wrangling\n",
    "##### Categorical Variables"
   ]
  },
  {
   "cell_type": "code",
   "execution_count": 25,
   "id": "0917295f",
   "metadata": {
    "scrolled": false
   },
   "outputs": [
    {
     "data": {
      "image/png": "[encoded data removed]",
      "text/plain": [
       "<Figure size 720x1440 with 19 Axes>"
      ]
     },
     "metadata": {
      "needs_background": "light"
     },
     "output_type": "display_data"
    }
   ],
   "source": [
    "# Univariate Statistics: Explore the categorical data before re-expressing.\n",
    "\n",
    "cat_cols = clean.select_dtypes(include = 'object').columns\n",
    "\n",
    "fig = plt.figure(figsize = (10, 20))\n",
    "for i, col in enumerate(cat_cols):\n",
    "    plt.subplot(10, 3, i+1)\n",
    "    ax = sns.countplot(y = col, data = df2)\n",
    "    fig.tight_layout(h_pad = 4, w_pad = 4)\n",
    "    \n",
    "plt.title('Categorical Data')\n",
    "plt.show()"
   ]
  },
  {
   "cell_type": "code",
   "execution_count": 26,
   "id": "95bae9d3",
   "metadata": {
    "scrolled": true
   },
   "outputs": [
    {
     "data": {
      "text/plain": [
       "array(['Automatic', 'Check'], dtype=object)"
      ]
     },
     "execution_count": 26,
     "metadata": {},
     "output_type": "execute_result"
    }
   ],
   "source": [
    "# Re-categorize the Payment Method data into two categories: Automatic and Check.\n",
    "\n",
    "clean['PaymentMethod']=np.where(clean['PaymentMethod'] =='Credit Card (automatic)', 'Automatic',clean['PaymentMethod'])\n",
    "clean['PaymentMethod']=np.where(clean['PaymentMethod'] =='Bank Transfer(automatic)', 'Automatic',clean['PaymentMethod'])\n",
    "clean['PaymentMethod']=np.where(clean['PaymentMethod'] =='Mailed Check', 'Check',clean['PaymentMethod'])\n",
    "clean['PaymentMethod']=np.where(clean['PaymentMethod'] =='Electronic Check', 'Check',clean['PaymentMethod'])\n",
    "\n",
    "# Verify the change.\n",
    "clean['PaymentMethod'].unique()"
   ]
  },
  {
   "cell_type": "code",
   "execution_count": 27,
   "id": "b8f64d47",
   "metadata": {
    "scrolled": true
   },
   "outputs": [
    {
     "data": {
      "text/plain": [
       "array(['Not_Married', 'Married'], dtype=object)"
      ]
     },
     "execution_count": 27,
     "metadata": {},
     "output_type": "execute_result"
    }
   ],
   "source": [
    "# Re-categorize the Marital data into two categories: Not_Married and Married.\n",
    "\n",
    "clean['Marital']=np.where(clean['Marital'] =='Widowed', 'Not_Married',clean['Marital'])\n",
    "clean['Marital']=np.where(clean['Marital'] =='Separated', 'Not_Married',clean['Marital'])\n",
    "clean['Marital']=np.where(clean['Marital'] =='Never Married', 'Not_Married',clean['Marital'])\n",
    "clean['Marital']=np.where(clean['Marital'] =='Divorced', 'Not_Married',clean['Marital'])\n",
    "\n",
    "# Verify the change. \n",
    "clean['Marital'].unique()"
   ]
  },
  {
   "cell_type": "code",
   "execution_count": 28,
   "id": "02cece5a",
   "metadata": {
    "scrolled": false
   },
   "outputs": [
    {
     "data": {
      "image/png": "[encoded data removed]",
      "text/plain": [
       "<Figure size 432x288 with 1 Axes>"
      ]
     },
     "metadata": {
      "needs_background": "light"
     },
     "output_type": "display_data"
    },
    {
     "data": {
      "image/png": "[encoded data removed]",
      "text/plain": [
       "<Figure size 432x288 with 1 Axes>"
      ]
     },
     "metadata": {
      "needs_background": "light"
     },
     "output_type": "display_data"
    },
    {
     "data": {
      "image/png": "[encoded data removed]",
      "text/plain": [
       "<Figure size 432x288 with 1 Axes>"
      ]
     },
     "metadata": {
      "needs_background": "light"
     },
     "output_type": "display_data"
    },
    {
     "data": {
      "image/png": "[encoded data removed]",
      "text/plain": [
       "<Figure size 432x288 with 1 Axes>"
      ]
     },
     "metadata": {
      "needs_background": "light"
     },
     "output_type": "display_data"
    },
    {
     "data": {
      "image/png": "[encoded data removed]",
      "text/plain": [
       "<Figure size 432x288 with 1 Axes>"
      ]
     },
     "metadata": {
      "needs_background": "light"
     },
     "output_type": "display_data"
    },
    {
     "data": {
      "image/png": "[encoded data removed]",
      "text/plain": [
       "<Figure size 432x288 with 1 Axes>"
      ]
     },
     "metadata": {
      "needs_background": "light"
     },
     "output_type": "display_data"
    },
    {
     "data": {
      "image/png": "[encoded data removed]",
      "text/plain": [
       "<Figure size 432x288 with 1 Axes>"
      ]
     },
     "metadata": {
      "needs_background": "light"
     },
     "output_type": "display_data"
    },
    {
     "data": {
      "image/png": "[encoded data removed]",
      "text/plain": [
       "<Figure size 432x288 with 1 Axes>"
      ]
     },
     "metadata": {
      "needs_background": "light"
     },
     "output_type": "display_data"
    },
    {
     "data": {
      "image/png": "[encoded data removed]",
      "text/plain": [
       "<Figure size 432x288 with 1 Axes>"
      ]
     },
     "metadata": {
      "needs_background": "light"
     },
     "output_type": "display_data"
    },
    {
     "data": {
      "image/png": "[encoded data removed]",
      "text/plain": [
       "<Figure size 432x288 with 1 Axes>"
      ]
     },
     "metadata": {
      "needs_background": "light"
     },
     "output_type": "display_data"
    },
    {
     "data": {
      "image/png": "[encoded data removed]",
      "text/plain": [
       "<Figure size 432x288 with 1 Axes>"
      ]
     },
     "metadata": {
      "needs_background": "light"
     },
     "output_type": "display_data"
    },
    {
     "data": {
      "image/png": "[encoded data removed]",
      "text/plain": [
       "<Figure size 432x288 with 1 Axes>"
      ]
     },
     "metadata": {
      "needs_background": "light"
     },
     "output_type": "display_data"
    },
    {
     "data": {
      "image/png": "[encoded data removed]",
      "text/plain": [
       "<Figure size 432x288 with 1 Axes>"
      ]
     },
     "metadata": {
      "needs_background": "light"
     },
     "output_type": "display_data"
    },
    {
     "data": {
      "image/png": "[encoded data removed]",
      "text/plain": [
       "<Figure size 432x288 with 1 Axes>"
      ]
     },
     "metadata": {
      "needs_background": "light"
     },
     "output_type": "display_data"
    },
    {
     "data": {
      "image/png": "[encoded data removed]",
      "text/plain": [
       "<Figure size 432x288 with 1 Axes>"
      ]
     },
     "metadata": {
      "needs_background": "light"
     },
     "output_type": "display_data"
    },
    {
     "data": {
      "image/png": "[encoded data removed]",
      "text/plain": [
       "<Figure size 432x288 with 1 Axes>"
      ]
     },
     "metadata": {
      "needs_background": "light"
     },
     "output_type": "display_data"
    },
    {
     "data": {
      "image/png": "[encoded data removed]",
      "text/plain": [
       "<Figure size 432x288 with 1 Axes>"
      ]
     },
     "metadata": {
      "needs_background": "light"
     },
     "output_type": "display_data"
    },
    {
     "data": {
      "image/png": "[encoded data removed]",
      "text/plain": [
       "<Figure size 432x288 with 1 Axes>"
      ]
     },
     "metadata": {
      "needs_background": "light"
     },
     "output_type": "display_data"
    }
   ],
   "source": [
    "# Bivariate plots of each categorical variable vs the target variable of churn. \n",
    "\n",
    "def plot_stacked(c):\n",
    "    clean.groupby([c, target]).size().unstack().plot(kind = 'bar', stacked = True)\n",
    "\n",
    "for c in cat_cols:\n",
    "    if c != target:\n",
    "        plot_stacked(c)"
   ]
  },
  {
   "cell_type": "code",
   "execution_count": 29,
   "id": "66303599",
   "metadata": {
    "scrolled": true
   },
   "outputs": [
    {
     "name": "stdout",
     "output_type": "stream",
     "text": [
      "['Area_Suburban', 'Area_Urban', 'Marital_Not_Married', 'Gender_Male', 'Gender_Nonbinary', 'Churn_Yes', 'Techie_Yes', 'Contract_One year', 'Contract_Two Year', 'Port_modem_Yes', 'Tablet_Yes', 'InternetService_Fiber Optic', 'InternetService_None', 'Phone_Yes', 'Multiple_Yes', 'OnlineSecurity_Yes', 'OnlineBackup_Yes', 'DeviceProtection_Yes', 'TechSupport_Yes', 'StreamingTV_Yes', 'StreamingMovies_Yes', 'PaperlessBilling_Yes', 'PaymentMethod_Check']\n"
     ]
    }
   ],
   "source": [
    "# Re-express the categorical data as numeric. \n",
    "\n",
    "for c in cat_cols:\n",
    "    if c in clean.columns:\n",
    "        clean = pd.get_dummies(clean, columns=[c], drop_first=True)\n",
    "pred_vars = clean.select_dtypes(include=\"uint8\").columns.tolist()\n",
    "print(pred_vars)"
   ]
  },
  {
   "cell_type": "code",
   "execution_count": 30,
   "id": "730c4614",
   "metadata": {
    "scrolled": true
   },
   "outputs": [],
   "source": [
    "# Reset the target variable to use the dummy variable.\n",
    "target = 'Churn_Yes'"
   ]
  },
  {
   "cell_type": "markdown",
   "id": "74230f7a",
   "metadata": {},
   "source": [
    "##### Numeric Variables"
   ]
  },
  {
   "cell_type": "code",
   "execution_count": 31,
   "id": "b0ee2264",
   "metadata": {
    "scrolled": false
   },
   "outputs": [
    {
     "name": "stdout",
     "output_type": "stream",
     "text": [
      "\n",
      "\n",
      "======================================\n",
      "\tAREA_SUBURBAN\n",
      "======================================\n",
      "Area_Suburban                       0         1\n",
      "Population                    8441.99   8698.20\n",
      "Children                         1.96      1.92\n",
      "Age                             53.08     53.07\n",
      "Income                       38205.51  38484.73\n",
      "Outage_sec_perweek               9.99     10.05\n",
      "Email                           12.04     11.99\n",
      "Contacts                         0.94      0.93\n",
      "Yearly_equip_failure             0.37      0.38\n",
      "Tenure                          34.60     34.13\n",
      "MonthlyCharge                  172.62    172.94\n",
      "Bandwidth_GB_Year             3392.62   3356.63\n",
      "Area_Urban                       0.50      0.00\n",
      "Marital_Not_Married              0.80      0.82\n",
      "Gender_Male                      0.48      0.47\n",
      "Gender_Nonbinary                 0.02      0.02\n",
      "Churn_Yes                        0.27      0.26\n",
      "Techie_Yes                       0.17      0.16\n",
      "Contract_One year                0.21      0.21\n",
      "Contract_Two Year                0.24      0.25\n",
      "Port_modem_Yes                   0.48      0.49\n",
      "Tablet_Yes                       0.30      0.30\n",
      "InternetService_Fiber Optic      0.44      0.44\n",
      "InternetService_None             0.21      0.22\n",
      "Phone_Yes                        0.91      0.91\n",
      "Multiple_Yes                     0.46      0.47\n",
      "OnlineSecurity_Yes               0.35      0.36\n",
      "OnlineBackup_Yes                 0.46      0.44\n",
      "DeviceProtection_Yes             0.44      0.44\n",
      "TechSupport_Yes                  0.38      0.37\n",
      "StreamingTV_Yes                  0.49      0.49\n",
      "StreamingMovies_Yes              0.49      0.50\n",
      "PaperlessBilling_Yes             0.59      0.59\n",
      "PaymentMethod_Check              0.57      0.56\n",
      "\n",
      "\n",
      "======================================\n",
      "\tAREA_URBAN\n",
      "======================================\n",
      "Area_Urban                          0         1\n",
      "Population                    8655.60   8271.29\n",
      "Children                         1.95      1.93\n",
      "Age                             53.00     53.23\n",
      "Income                       38314.00  38268.74\n",
      "Outage_sec_perweek              10.01     10.00\n",
      "Email                           12.02     12.03\n",
      "Contacts                         0.94      0.94\n",
      "Yearly_equip_failure             0.38      0.37\n",
      "Tenure                          34.65     34.02\n",
      "MonthlyCharge                  172.70    172.78\n",
      "Bandwidth_GB_Year             3398.21   3345.21\n",
      "Area_Suburban                    0.50      0.00\n",
      "Marital_Not_Married              0.81      0.80\n",
      "Gender_Male                      0.47      0.49\n",
      "Gender_Nonbinary                 0.02      0.02\n",
      "Churn_Yes                        0.26      0.27\n",
      "Techie_Yes                       0.17      0.17\n",
      "Contract_One year                0.21      0.21\n",
      "Contract_Two Year                0.25      0.24\n",
      "Port_modem_Yes                   0.49      0.47\n",
      "Tablet_Yes                       0.29      0.30\n",
      "InternetService_Fiber Optic      0.44      0.44\n",
      "InternetService_None             0.22      0.21\n",
      "Phone_Yes                        0.91      0.90\n",
      "Multiple_Yes                     0.46      0.47\n",
      "OnlineSecurity_Yes               0.36      0.35\n",
      "OnlineBackup_Yes                 0.44      0.46\n",
      "DeviceProtection_Yes             0.43      0.44\n",
      "TechSupport_Yes                  0.37      0.38\n",
      "StreamingTV_Yes                  0.50      0.48\n",
      "StreamingMovies_Yes              0.49      0.49\n",
      "PaperlessBilling_Yes             0.59      0.59\n",
      "PaymentMethod_Check              0.57      0.56\n",
      "\n",
      "\n",
      "======================================\n",
      "\tMARITAL_NOT_MARRIED\n",
      "======================================\n",
      "Marital_Not_Married                 0         1\n",
      "Population                    8596.55   8511.45\n",
      "Children                         1.93      1.95\n",
      "Age                             52.87     53.13\n",
      "Income                       39323.58  38056.76\n",
      "Outage_sec_perweek              10.11      9.98\n",
      "Email                           12.07     12.01\n",
      "Contacts                         0.96      0.94\n",
      "Yearly_equip_failure             0.37      0.38\n",
      "Tenure                          34.68     34.38\n",
      "MonthlyCharge                  171.58    173.00\n",
      "Bandwidth_GB_Year             3398.92   3376.24\n",
      "Area_Suburban                    0.32      0.34\n",
      "Area_Urban                       0.35      0.33\n",
      "Gender_Male                      0.48      0.47\n",
      "Gender_Nonbinary                 0.02      0.02\n",
      "Churn_Yes                        0.26      0.27\n",
      "Techie_Yes                       0.17      0.17\n",
      "Contract_One year                0.21      0.21\n",
      "Contract_Two Year                0.24      0.25\n",
      "Port_modem_Yes                   0.48      0.48\n",
      "Tablet_Yes                       0.30      0.30\n",
      "InternetService_Fiber Optic      0.43      0.44\n",
      "InternetService_None             0.22      0.21\n",
      "Phone_Yes                        0.92      0.90\n",
      "Multiple_Yes                     0.45      0.47\n",
      "OnlineSecurity_Yes               0.34      0.36\n",
      "OnlineBackup_Yes                 0.46      0.45\n",
      "DeviceProtection_Yes             0.44      0.44\n",
      "TechSupport_Yes                  0.38      0.37\n",
      "StreamingTV_Yes                  0.48      0.50\n",
      "StreamingMovies_Yes              0.48      0.49\n",
      "PaperlessBilling_Yes             0.60      0.59\n",
      "PaymentMethod_Check              0.56      0.57\n",
      "\n",
      "\n",
      "======================================\n",
      "\tGENDER_MALE\n",
      "======================================\n",
      "Gender_Male                         0         1\n",
      "Population                    8637.95   8405.45\n",
      "Children                         1.94      1.95\n",
      "Age                             52.87     53.30\n",
      "Income                       38934.31  37594.19\n",
      "Outage_sec_perweek               9.96     10.06\n",
      "Email                           11.98     12.07\n",
      "Contacts                         0.93      0.95\n",
      "Yearly_equip_failure             0.38      0.37\n",
      "Tenure                          34.67     34.18\n",
      "MonthlyCharge                  172.37    173.13\n",
      "Bandwidth_GB_Year             3363.34   3399.69\n",
      "Area_Suburban                    0.34      0.33\n",
      "Area_Urban                       0.33      0.34\n",
      "Marital_Not_Married              0.81      0.81\n",
      "Gender_Nonbinary                 0.04      0.00\n",
      "Churn_Yes                        0.25      0.28\n",
      "Techie_Yes                       0.17      0.16\n",
      "Contract_One year                0.21      0.21\n",
      "Contract_Two Year                0.24      0.25\n",
      "Port_modem_Yes                   0.48      0.49\n",
      "Tablet_Yes                       0.30      0.29\n",
      "InternetService_Fiber Optic      0.45      0.43\n",
      "InternetService_None             0.22      0.21\n",
      "Phone_Yes                        0.90      0.91\n",
      "Multiple_Yes                     0.46      0.47\n",
      "OnlineSecurity_Yes               0.35      0.37\n",
      "OnlineBackup_Yes                 0.46      0.45\n",
      "DeviceProtection_Yes             0.43      0.45\n",
      "TechSupport_Yes                  0.38      0.37\n",
      "StreamingTV_Yes                  0.49      0.50\n",
      "StreamingMovies_Yes              0.48      0.50\n",
      "PaperlessBilling_Yes             0.59      0.58\n",
      "PaymentMethod_Check              0.57      0.57\n",
      "\n",
      "\n",
      "======================================\n",
      "\tGENDER_NONBINARY\n",
      "======================================\n",
      "Gender_Nonbinary                    0         1\n",
      "Population                    8529.40   8457.15\n",
      "Children                         1.94      2.11\n",
      "Age                             53.16     49.55\n",
      "Income                       38299.90  38258.98\n",
      "Outage_sec_perweek              10.01     10.09\n",
      "Email                           12.03     11.96\n",
      "Contacts                         0.94      0.90\n",
      "Yearly_equip_failure             0.37      0.47\n",
      "Tenure                          34.50     31.99\n",
      "MonthlyCharge                  172.69    174.25\n",
      "Bandwidth_GB_Year             3386.30   3140.72\n",
      "Area_Suburban                    0.33      0.36\n",
      "Area_Urban                       0.33      0.30\n",
      "Marital_Not_Married              0.81      0.81\n",
      "Gender_Male                      0.49      0.00\n",
      "Churn_Yes                        0.27      0.27\n",
      "Techie_Yes                       0.17      0.14\n",
      "Contract_One year                0.21      0.22\n",
      "Contract_Two Year                0.24      0.24\n",
      "Port_modem_Yes                   0.48      0.48\n",
      "Tablet_Yes                       0.30      0.29\n",
      "InternetService_Fiber Optic      0.44      0.44\n",
      "InternetService_None             0.21      0.23\n",
      "Phone_Yes                        0.91      0.92\n",
      "Multiple_Yes                     0.46      0.47\n",
      "OnlineSecurity_Yes               0.36      0.35\n",
      "OnlineBackup_Yes                 0.45      0.53\n",
      "DeviceProtection_Yes             0.44      0.37\n",
      "TechSupport_Yes                  0.37      0.40\n",
      "StreamingTV_Yes                  0.49      0.53\n",
      "StreamingMovies_Yes              0.49      0.48\n",
      "PaperlessBilling_Yes             0.59      0.54\n",
      "PaymentMethod_Check              0.57      0.57\n",
      "\n",
      "\n",
      "======================================\n",
      "\tTECHIE_YES\n",
      "======================================\n",
      "Techie_Yes                          0         1\n",
      "Population                    8580.82   8264.45\n",
      "Children                         1.95      1.91\n",
      "Age                             53.10     52.99\n",
      "Income                       38290.38  38341.39\n",
      "Outage_sec_perweek              10.00     10.02\n",
      "Email                           12.05     11.92\n",
      "Contacts                         0.94      0.95\n",
      "Yearly_equip_failure             0.38      0.36\n",
      "Tenure                          34.58     33.73\n",
      "MonthlyCharge                  172.51    173.82\n",
      "Bandwidth_GB_Year             3391.49   3326.45\n",
      "Area_Suburban                    0.34      0.33\n",
      "Area_Urban                       0.33      0.34\n",
      "Marital_Not_Married              0.81      0.80\n",
      "Gender_Male                      0.48      0.47\n",
      "Gender_Nonbinary                 0.02      0.02\n",
      "Churn_Yes                        0.25      0.33\n",
      "Contract_One year                0.21      0.22\n",
      "Contract_Two Year                0.25      0.24\n",
      "Port_modem_Yes                   0.49      0.47\n",
      "Tablet_Yes                       0.30      0.31\n",
      "InternetService_Fiber Optic      0.44      0.45\n",
      "InternetService_None             0.22      0.21\n",
      "Phone_Yes                        0.91      0.91\n",
      "Multiple_Yes                     0.47      0.46\n",
      "OnlineSecurity_Yes               0.36      0.35\n",
      "OnlineBackup_Yes                 0.45      0.46\n",
      "DeviceProtection_Yes             0.43      0.46\n",
      "TechSupport_Yes                  0.37      0.38\n",
      "StreamingTV_Yes                  0.49      0.50\n",
      "StreamingMovies_Yes              0.49      0.49\n",
      "PaperlessBilling_Yes             0.59      0.59\n",
      "PaymentMethod_Check              0.57      0.56\n",
      "\n",
      "\n",
      "======================================\n",
      "\tCONTRACT_ONE YEAR\n",
      "======================================\n",
      "Contract_One year                   0         1\n",
      "Population                    8569.09   8373.13\n",
      "Children                         1.94      1.98\n",
      "Age                             53.16     52.76\n",
      "Income                       38266.92  38418.60\n",
      "Outage_sec_perweek              10.01      9.98\n",
      "Email                           12.04     11.97\n",
      "Contacts                         0.94      0.95\n",
      "Yearly_equip_failure             0.37      0.39\n",
      "Tenure                          34.51     34.17\n",
      "MonthlyCharge                  172.48    173.67\n",
      "Bandwidth_GB_Year             3384.45   3366.11\n",
      "Area_Suburban                    0.34      0.33\n",
      "Area_Urban                       0.33      0.34\n",
      "Marital_Not_Married              0.81      0.81\n",
      "Gender_Male                      0.48      0.47\n",
      "Gender_Nonbinary                 0.02      0.02\n",
      "Churn_Yes                        0.30      0.15\n",
      "Techie_Yes                       0.17      0.17\n",
      "Contract_Two Year                0.31      0.00\n",
      "Port_modem_Yes                   0.49      0.47\n",
      "Tablet_Yes                       0.29      0.31\n",
      "InternetService_Fiber Optic      0.44      0.43\n",
      "InternetService_None             0.21      0.22\n",
      "Phone_Yes                        0.90      0.91\n",
      "Multiple_Yes                     0.46      0.48\n",
      "OnlineSecurity_Yes               0.36      0.35\n",
      "OnlineBackup_Yes                 0.45      0.45\n",
      "DeviceProtection_Yes             0.44      0.44\n",
      "TechSupport_Yes                  0.37      0.38\n",
      "StreamingTV_Yes                  0.49      0.52\n",
      "StreamingMovies_Yes              0.49      0.49\n",
      "PaperlessBilling_Yes             0.59      0.58\n",
      "PaymentMethod_Check              0.57      0.57\n",
      "\n",
      "\n",
      "======================================\n",
      "\tCONTRACT_TWO YEAR\n",
      "======================================\n",
      "Contract_Two Year                   0         1\n",
      "Population                    8434.62   8815.44\n",
      "Children                         1.93      2.01\n",
      "Age                             53.09     53.04\n",
      "Income                       38231.81  38506.42\n",
      "Outage_sec_perweek               9.99     10.06\n",
      "Email                           12.02     12.03\n",
      "Contacts                         0.94      0.95\n",
      "Yearly_equip_failure             0.37      0.37\n",
      "Tenure                          34.12     35.44\n",
      "MonthlyCharge                  172.58    173.20\n",
      "Bandwidth_GB_Year             3351.69   3469.83\n",
      "Area_Suburban                    0.33      0.34\n",
      "Area_Urban                       0.34      0.32\n",
      "Marital_Not_Married              0.81      0.81\n",
      "Gender_Male                      0.47      0.48\n",
      "Gender_Nonbinary                 0.02      0.02\n",
      "Churn_Yes                        0.31      0.13\n",
      "Techie_Yes                       0.17      0.16\n",
      "Contract_One year                0.28      0.00\n",
      "Port_modem_Yes                   0.48      0.49\n",
      "Tablet_Yes                       0.30      0.29\n",
      "InternetService_Fiber Optic      0.44      0.44\n",
      "InternetService_None             0.22      0.20\n",
      "Phone_Yes                        0.91      0.91\n",
      "Multiple_Yes                     0.46      0.48\n",
      "OnlineSecurity_Yes               0.35      0.37\n",
      "OnlineBackup_Yes                 0.45      0.45\n",
      "DeviceProtection_Yes             0.44      0.43\n",
      "TechSupport_Yes                  0.37      0.37\n",
      "StreamingTV_Yes                  0.49      0.49\n",
      "StreamingMovies_Yes              0.49      0.49\n",
      "PaperlessBilling_Yes             0.58      0.60\n",
      "PaymentMethod_Check              0.57      0.57\n",
      "\n",
      "\n",
      "======================================\n",
      "\tPORT_MODEM_YES\n",
      "======================================\n",
      "Port_modem_Yes                      0         1\n",
      "Population                    8424.02   8638.36\n",
      "Children                         1.93      1.96\n",
      "Age                             52.99     53.17\n",
      "Income                       38537.74  38044.16\n",
      "Outage_sec_perweek               9.99     10.02\n",
      "Email                           11.99     12.06\n",
      "Contacts                         0.94      0.94\n",
      "Yearly_equip_failure             0.37      0.38\n",
      "Tenure                          34.20     34.70\n",
      "MonthlyCharge                  172.71    172.75\n",
      "Bandwidth_GB_Year             3360.39   3402.11\n",
      "Area_Suburban                    0.33      0.34\n",
      "Area_Urban                       0.34      0.33\n",
      "Marital_Not_Married              0.81      0.81\n",
      "Gender_Male                      0.47      0.48\n",
      "Gender_Nonbinary                 0.02      0.02\n",
      "Churn_Yes                        0.26      0.27\n",
      "Techie_Yes                       0.17      0.16\n",
      "Contract_One year                0.22      0.21\n",
      "Contract_Two Year                0.24      0.25\n",
      "Tablet_Yes                       0.30      0.30\n",
      "InternetService_Fiber Optic      0.44      0.44\n",
      "InternetService_None             0.22      0.21\n",
      "Phone_Yes                        0.91      0.91\n",
      "Multiple_Yes                     0.47      0.46\n",
      "OnlineSecurity_Yes               0.35      0.36\n",
      "OnlineBackup_Yes                 0.45      0.45\n",
      "DeviceProtection_Yes             0.44      0.43\n",
      "TechSupport_Yes                  0.37      0.38\n",
      "StreamingTV_Yes                  0.49      0.49\n",
      "StreamingMovies_Yes              0.49      0.49\n",
      "PaperlessBilling_Yes             0.59      0.59\n",
      "PaymentMethod_Check              0.57      0.57\n",
      "\n",
      "\n",
      "======================================\n",
      "\tTABLET_YES\n",
      "======================================\n",
      "Tablet_Yes                          0         1\n",
      "Population                    8563.58   8443.16\n",
      "Children                         1.95      1.94\n",
      "Age                             53.18     52.83\n",
      "Income                       38240.01  38437.91\n",
      "Outage_sec_perweek              10.00     10.03\n",
      "Email                           12.04     11.99\n",
      "Contacts                         0.94      0.94\n",
      "Yearly_equip_failure             0.38      0.37\n",
      "Tenure                          34.42     34.49\n",
      "MonthlyCharge                  172.61    173.02\n",
      "Bandwidth_GB_Year             3376.50   3390.19\n",
      "Area_Suburban                    0.33      0.34\n",
      "Area_Urban                       0.33      0.34\n",
      "Marital_Not_Married              0.81      0.81\n",
      "Gender_Male                      0.48      0.47\n",
      "Gender_Nonbinary                 0.02      0.02\n",
      "Churn_Yes                        0.27      0.26\n",
      "Techie_Yes                       0.17      0.17\n",
      "Contract_One year                0.21      0.22\n",
      "Contract_Two Year                0.25      0.24\n",
      "Port_modem_Yes                   0.48      0.49\n",
      "InternetService_Fiber Optic      0.44      0.44\n",
      "InternetService_None             0.21      0.22\n",
      "Phone_Yes                        0.90      0.92\n",
      "Multiple_Yes                     0.47      0.45\n",
      "OnlineSecurity_Yes               0.35      0.37\n",
      "OnlineBackup_Yes                 0.45      0.44\n",
      "DeviceProtection_Yes             0.44      0.44\n",
      "TechSupport_Yes                  0.38      0.37\n",
      "StreamingTV_Yes                  0.49      0.50\n",
      "StreamingMovies_Yes              0.48      0.51\n",
      "PaperlessBilling_Yes             0.58      0.61\n",
      "PaymentMethod_Check              0.56      0.58\n",
      "\n",
      "\n",
      "======================================\n",
      "\tINTERNETSERVICE_FIBER OPTIC\n",
      "======================================\n",
      "InternetService_Fiber Optic         0         1\n",
      "Population                    8510.10   8550.13\n",
      "Children                         1.95      1.93\n",
      "Age                             53.06     53.10\n",
      "Income                       38768.95  37701.28\n",
      "Outage_sec_perweek              10.00     10.02\n",
      "Email                           12.02     12.03\n",
      "Contacts                         0.94      0.95\n",
      "Yearly_equip_failure             0.37      0.37\n",
      "Tenure                          34.49     34.38\n",
      "MonthlyCharge                  161.94    186.45\n",
      "Bandwidth_GB_Year             3497.59   3231.78\n",
      "Area_Suburban                    0.34      0.33\n",
      "Area_Urban                       0.33      0.33\n",
      "Marital_Not_Married              0.81      0.81\n",
      "Gender_Male                      0.48      0.47\n",
      "Gender_Nonbinary                 0.02      0.02\n",
      "Churn_Yes                        0.29      0.23\n",
      "Techie_Yes                       0.17      0.17\n",
      "Contract_One year                0.22      0.21\n",
      "Contract_Two Year                0.24      0.25\n",
      "Port_modem_Yes                   0.48      0.48\n",
      "Tablet_Yes                       0.30      0.29\n",
      "InternetService_None             0.38      0.00\n",
      "Phone_Yes                        0.91      0.90\n",
      "Multiple_Yes                     0.46      0.47\n",
      "OnlineSecurity_Yes               0.35      0.36\n",
      "OnlineBackup_Yes                 0.45      0.45\n",
      "DeviceProtection_Yes             0.43      0.44\n",
      "TechSupport_Yes                  0.38      0.36\n",
      "StreamingTV_Yes                  0.50      0.49\n",
      "StreamingMovies_Yes              0.49      0.49\n",
      "PaperlessBilling_Yes             0.58      0.60\n",
      "PaymentMethod_Check              0.58      0.56\n",
      "\n",
      "\n",
      "======================================\n",
      "\tINTERNETSERVICE_NONE\n",
      "======================================\n",
      "InternetService_None                0         1\n",
      "Population                    8519.90   8556.30\n",
      "Children                         1.94      1.98\n",
      "Age                             52.99     53.39\n",
      "Income                       38278.40  38373.96\n",
      "Outage_sec_perweek              10.00     10.04\n",
      "Email                           12.03     12.02\n",
      "Contacts                         0.95      0.92\n",
      "Yearly_equip_failure             0.38      0.37\n",
      "Tenure                          34.60     33.85\n",
      "MonthlyCharge                  178.21    152.72\n",
      "Bandwidth_GB_Year             3434.13   3184.95\n",
      "Area_Suburban                    0.33      0.34\n",
      "Area_Urban                       0.33      0.33\n",
      "Marital_Not_Married              0.81      0.81\n",
      "Gender_Male                      0.47      0.47\n",
      "Gender_Nonbinary                 0.02      0.03\n",
      "Churn_Yes                        0.27      0.23\n",
      "Techie_Yes                       0.17      0.16\n",
      "Contract_One year                0.21      0.22\n",
      "Contract_Two Year                0.25      0.23\n",
      "Port_modem_Yes                   0.48      0.48\n",
      "Tablet_Yes                       0.30      0.30\n",
      "InternetService_Fiber Optic      0.56      0.00\n",
      "Phone_Yes                        0.90      0.91\n",
      "Multiple_Yes                     0.47      0.44\n",
      "OnlineSecurity_Yes               0.36      0.34\n",
      "OnlineBackup_Yes                 0.45      0.44\n",
      "DeviceProtection_Yes             0.44      0.43\n",
      "TechSupport_Yes                  0.37      0.38\n",
      "StreamingTV_Yes                  0.49      0.49\n",
      "StreamingMovies_Yes              0.49      0.48\n",
      "PaperlessBilling_Yes             0.59      0.59\n",
      "PaymentMethod_Check              0.57      0.58\n",
      "\n",
      "\n",
      "======================================\n",
      "\tPHONE_YES\n",
      "======================================\n",
      "Phone_Yes                           0         1\n",
      "Population                    8254.88   8556.05\n",
      "Children                         1.96      1.94\n",
      "Age                             52.38     53.15\n",
      "Income                       38396.61  38288.80\n",
      "Outage_sec_perweek              10.03     10.00\n",
      "Email                           12.10     12.02\n",
      "Contacts                         0.93      0.94\n",
      "Yearly_equip_failure             0.40      0.37\n",
      "Tenure                          34.16     34.47\n",
      "MonthlyCharge                  175.53    172.44\n",
      "Bandwidth_GB_Year             3374.99   3381.15\n",
      "Area_Suburban                    0.33      0.33\n",
      "Area_Urban                       0.35      0.33\n",
      "Marital_Not_Married              0.83      0.81\n",
      "Gender_Male                      0.47      0.47\n",
      "Gender_Nonbinary                 0.02      0.02\n",
      "Churn_Yes                        0.30      0.26\n",
      "Techie_Yes                       0.17      0.17\n",
      "Contract_One year                0.20      0.21\n",
      "Contract_Two Year                0.24      0.24\n",
      "Port_modem_Yes                   0.48      0.48\n",
      "Tablet_Yes                       0.26      0.30\n",
      "InternetService_Fiber Optic      0.45      0.44\n",
      "InternetService_None             0.19      0.22\n",
      "Multiple_Yes                     0.45      0.47\n",
      "OnlineSecurity_Yes               0.36      0.36\n",
      "OnlineBackup_Yes                 0.46      0.45\n",
      "DeviceProtection_Yes             0.48      0.43\n",
      "TechSupport_Yes                  0.38      0.37\n",
      "StreamingTV_Yes                  0.51      0.49\n",
      "StreamingMovies_Yes              0.50      0.49\n",
      "PaperlessBilling_Yes             0.60      0.59\n",
      "PaymentMethod_Check              0.56      0.57\n",
      "\n",
      "\n",
      "======================================\n",
      "\tMULTIPLE_YES\n",
      "======================================\n",
      "Multiple_Yes                        0         1\n",
      "Population                    8570.01   8479.06\n",
      "Children                         1.97      1.91\n",
      "Age                             53.22     52.92\n",
      "Income                       38334.57  38257.94\n",
      "Outage_sec_perweek               9.98     10.04\n",
      "Email                           12.03     12.01\n",
      "Contacts                         0.94      0.94\n",
      "Yearly_equip_failure             0.37      0.38\n",
      "Tenure                          34.68     34.17\n",
      "MonthlyCharge                  157.08    190.73\n",
      "Bandwidth_GB_Year             3362.29   3401.62\n",
      "Area_Suburban                    0.33      0.34\n",
      "Area_Urban                       0.33      0.34\n",
      "Marital_Not_Married              0.81      0.81\n",
      "Gender_Male                      0.47      0.48\n",
      "Gender_Nonbinary                 0.02      0.02\n",
      "Churn_Yes                        0.21      0.33\n",
      "Techie_Yes                       0.17      0.16\n",
      "Contract_One year                0.21      0.22\n",
      "Contract_Two Year                0.24      0.25\n",
      "Port_modem_Yes                   0.49      0.48\n",
      "Tablet_Yes                       0.31      0.29\n",
      "InternetService_Fiber Optic      0.44      0.44\n",
      "InternetService_None             0.22      0.20\n",
      "Phone_Yes                        0.90      0.91\n",
      "OnlineSecurity_Yes               0.36      0.36\n",
      "OnlineBackup_Yes                 0.45      0.45\n",
      "DeviceProtection_Yes             0.43      0.44\n",
      "TechSupport_Yes                  0.38      0.37\n",
      "StreamingTV_Yes                  0.49      0.50\n",
      "StreamingMovies_Yes              0.49      0.50\n",
      "PaperlessBilling_Yes             0.59      0.58\n",
      "PaymentMethod_Check              0.57      0.56\n",
      "\n",
      "\n",
      "======================================\n",
      "\tONLINESECURITY_YES\n",
      "======================================\n",
      "OnlineSecurity_Yes                  0         1\n",
      "Population                    8479.86   8614.01\n",
      "Children                         1.94      1.95\n",
      "Age                             53.27     52.72\n",
      "Income                       38462.49  38004.02\n",
      "Outage_sec_perweek              10.02      9.99\n",
      "Email                           12.07     11.95\n",
      "Contacts                         0.94      0.95\n",
      "Yearly_equip_failure             0.38      0.36\n",
      "Tenure                          34.38     34.54\n",
      "MonthlyCharge                  171.13    175.62\n",
      "Bandwidth_GB_Year             3345.15   3444.44\n",
      "Area_Suburban                    0.33      0.34\n",
      "Area_Urban                       0.34      0.32\n",
      "Marital_Not_Married              0.80      0.82\n",
      "Gender_Male                      0.47      0.49\n",
      "Gender_Nonbinary                 0.02      0.02\n",
      "Churn_Yes                        0.27      0.26\n",
      "Techie_Yes                       0.17      0.16\n",
      "Contract_One year                0.21      0.21\n",
      "Contract_Two Year                0.24      0.25\n",
      "Port_modem_Yes                   0.48      0.49\n",
      "Tablet_Yes                       0.29      0.31\n",
      "InternetService_Fiber Optic      0.44      0.45\n",
      "InternetService_None             0.22      0.21\n",
      "Phone_Yes                        0.91      0.90\n",
      "Multiple_Yes                     0.47      0.46\n",
      "OnlineBackup_Yes                 0.45      0.46\n",
      "DeviceProtection_Yes             0.43      0.45\n",
      "TechSupport_Yes                  0.37      0.38\n",
      "StreamingTV_Yes                  0.49      0.50\n",
      "StreamingMovies_Yes              0.49      0.50\n",
      "PaperlessBilling_Yes             0.59      0.59\n",
      "PaymentMethod_Check              0.57      0.58\n",
      "\n",
      "\n",
      "======================================\n",
      "\tONLINEBACKUP_YES\n",
      "======================================\n",
      "OnlineBackup_Yes                    0         1\n",
      "Population                    8413.16   8667.04\n",
      "Children                         1.94      1.96\n",
      "Age                             53.08     53.08\n",
      "Income                       38418.58  38153.43\n",
      "Outage_sec_perweek              10.01     10.00\n",
      "Email                           12.06     11.99\n",
      "Contacts                         0.93      0.95\n",
      "Yearly_equip_failure             0.38      0.37\n",
      "Tenure                          33.98     35.00\n",
      "MonthlyCharge                  162.61    185.03\n",
      "Bandwidth_GB_Year             3300.19   3478.34\n",
      "Area_Suburban                    0.34      0.33\n",
      "Area_Urban                       0.33      0.34\n",
      "Marital_Not_Married              0.81      0.81\n",
      "Gender_Male                      0.48      0.47\n",
      "Gender_Nonbinary                 0.02      0.03\n",
      "Churn_Yes                        0.24      0.29\n",
      "Techie_Yes                       0.17      0.17\n",
      "Contract_One year                0.21      0.21\n",
      "Contract_Two Year                0.24      0.24\n",
      "Port_modem_Yes                   0.48      0.48\n",
      "Tablet_Yes                       0.30      0.29\n",
      "InternetService_Fiber Optic      0.44      0.44\n",
      "InternetService_None             0.22      0.21\n",
      "Phone_Yes                        0.91      0.90\n",
      "Multiple_Yes                     0.47      0.46\n",
      "OnlineSecurity_Yes               0.35      0.36\n",
      "DeviceProtection_Yes             0.43      0.44\n",
      "TechSupport_Yes                  0.38      0.37\n",
      "StreamingTV_Yes                  0.50      0.49\n",
      "StreamingMovies_Yes              0.49      0.49\n",
      "PaperlessBilling_Yes             0.58      0.59\n",
      "PaymentMethod_Check              0.57      0.57\n",
      "\n",
      "\n",
      "======================================\n",
      "\tDEVICEPROTECTION_YES\n",
      "======================================\n",
      "DeviceProtection_Yes                0         1\n",
      "Population                    8614.54   8416.03\n",
      "Children                         1.93      1.97\n",
      "Age                             52.75     53.50\n",
      "Income                       38082.42  38577.46\n",
      "Outage_sec_perweek               9.95     10.08\n",
      "Email                           12.02     12.03\n",
      "Contacts                         0.95      0.93\n",
      "Yearly_equip_failure             0.38      0.37\n",
      "Tenure                          35.11     33.57\n",
      "MonthlyCharge                  166.52    180.72\n",
      "Bandwidth_GB_Year             3396.17   3360.51\n",
      "Area_Suburban                    0.33      0.33\n",
      "Area_Urban                       0.33      0.34\n",
      "Marital_Not_Married              0.81      0.81\n",
      "Gender_Male                      0.46      0.49\n",
      "Gender_Nonbinary                 0.03      0.02\n",
      "Churn_Yes                        0.24      0.29\n",
      "Techie_Yes                       0.16      0.18\n",
      "Contract_One year                0.21      0.21\n",
      "Contract_Two Year                0.25      0.24\n",
      "Port_modem_Yes                   0.49      0.48\n",
      "Tablet_Yes                       0.30      0.30\n",
      "InternetService_Fiber Optic      0.44      0.44\n",
      "InternetService_None             0.22      0.21\n",
      "Phone_Yes                        0.91      0.90\n",
      "Multiple_Yes                     0.46      0.47\n",
      "OnlineSecurity_Yes               0.35      0.36\n",
      "OnlineBackup_Yes                 0.45      0.46\n",
      "TechSupport_Yes                  0.38      0.37\n",
      "StreamingTV_Yes                  0.49      0.49\n",
      "StreamingMovies_Yes              0.48      0.50\n",
      "PaperlessBilling_Yes             0.58      0.59\n",
      "PaymentMethod_Check              0.57      0.57\n",
      "\n",
      "\n",
      "======================================\n",
      "\tTECHSUPPORT_YES\n",
      "======================================\n",
      "TechSupport_Yes                     0         1\n",
      "Population                    8677.91   8276.28\n",
      "Children                         1.94      1.95\n",
      "Age                             52.68     53.75\n",
      "Income                       38227.93  38417.83\n",
      "Outage_sec_perweek              10.04      9.96\n",
      "Email                           11.98     12.10\n",
      "Contacts                         0.95      0.92\n",
      "Yearly_equip_failure             0.37      0.38\n",
      "Tenure                          34.55     34.25\n",
      "MonthlyCharge                  168.65    179.55\n",
      "Bandwidth_GB_Year             3388.18   3367.85\n",
      "Area_Suburban                    0.34      0.33\n",
      "Area_Urban                       0.33      0.34\n",
      "Marital_Not_Married              0.81      0.80\n",
      "Gender_Male                      0.48      0.47\n",
      "Gender_Nonbinary                 0.02      0.02\n",
      "Churn_Yes                        0.26      0.28\n",
      "Techie_Yes                       0.17      0.17\n",
      "Contract_One year                0.21      0.21\n",
      "Contract_Two Year                0.25      0.24\n",
      "Port_modem_Yes                   0.48      0.49\n",
      "Tablet_Yes                       0.30      0.29\n",
      "InternetService_Fiber Optic      0.45      0.43\n",
      "InternetService_None             0.21      0.22\n",
      "Phone_Yes                        0.91      0.90\n",
      "Multiple_Yes                     0.47      0.46\n",
      "OnlineSecurity_Yes               0.35      0.36\n",
      "OnlineBackup_Yes                 0.45      0.45\n",
      "DeviceProtection_Yes             0.44      0.43\n",
      "StreamingTV_Yes                  0.49      0.49\n",
      "StreamingMovies_Yes              0.50      0.48\n",
      "PaperlessBilling_Yes             0.59      0.59\n",
      "PaymentMethod_Check              0.57      0.57\n",
      "\n",
      "\n",
      "======================================\n",
      "\tSTREAMINGTV_YES\n",
      "======================================\n",
      "StreamingTV_Yes                     0         1\n",
      "Population                    8655.45   8396.01\n",
      "Children                         1.95      1.94\n",
      "Age                             53.01     53.15\n",
      "Income                       38384.78  38210.42\n",
      "Outage_sec_perweek               9.96     10.05\n",
      "Email                           12.01     12.04\n",
      "Contacts                         0.94      0.94\n",
      "Yearly_equip_failure             0.37      0.38\n",
      "Tenure                          34.36     34.53\n",
      "MonthlyCharge                  152.40    193.70\n",
      "Bandwidth_GB_Year             3260.89   3503.99\n",
      "Area_Suburban                    0.33      0.34\n",
      "Area_Urban                       0.34      0.33\n",
      "Marital_Not_Married              0.80      0.81\n",
      "Gender_Male                      0.47      0.48\n",
      "Gender_Nonbinary                 0.02      0.03\n",
      "Churn_Yes                        0.17      0.37\n",
      "Techie_Yes                       0.17      0.17\n",
      "Contract_One year                0.20      0.22\n",
      "Contract_Two Year                0.24      0.25\n",
      "Port_modem_Yes                   0.48      0.48\n",
      "Tablet_Yes                       0.29      0.30\n",
      "InternetService_Fiber Optic      0.45      0.43\n",
      "InternetService_None             0.21      0.22\n",
      "Phone_Yes                        0.91      0.90\n",
      "Multiple_Yes                     0.46      0.47\n",
      "OnlineSecurity_Yes               0.35      0.36\n",
      "OnlineBackup_Yes                 0.46      0.44\n",
      "DeviceProtection_Yes             0.44      0.44\n",
      "TechSupport_Yes                  0.37      0.37\n",
      "StreamingMovies_Yes              0.50      0.48\n",
      "PaperlessBilling_Yes             0.60      0.58\n",
      "PaymentMethod_Check              0.57      0.56\n",
      "\n",
      "\n",
      "======================================\n",
      "\tSTREAMINGMOVIES_YES\n",
      "======================================\n",
      "StreamingMovies_Yes                 0         1\n",
      "Population                    8428.67   8630.67\n",
      "Children                         1.92      1.97\n",
      "Age                             52.84     53.33\n",
      "Income                       38409.78  38183.75\n",
      "Outage_sec_perweek               9.96     10.06\n",
      "Email                           12.01     12.04\n",
      "Contacts                         0.94      0.95\n",
      "Yearly_equip_failure             0.37      0.38\n",
      "Tenure                          34.45     34.43\n",
      "MonthlyCharge                  147.09    199.38\n",
      "Bandwidth_GB_Year             3276.99   3488.23\n",
      "Area_Suburban                    0.33      0.34\n",
      "Area_Urban                       0.33      0.33\n",
      "Marital_Not_Married              0.81      0.81\n",
      "Gender_Male                      0.47      0.48\n",
      "Gender_Nonbinary                 0.02      0.02\n",
      "Churn_Yes                        0.14      0.39\n",
      "Techie_Yes                       0.17      0.17\n",
      "Contract_One year                0.21      0.21\n",
      "Contract_Two Year                0.25      0.24\n",
      "Port_modem_Yes                   0.48      0.49\n",
      "Tablet_Yes                       0.29      0.31\n",
      "InternetService_Fiber Optic      0.44      0.44\n",
      "InternetService_None             0.22      0.21\n",
      "Phone_Yes                        0.91      0.90\n",
      "Multiple_Yes                     0.46      0.47\n",
      "OnlineSecurity_Yes               0.35      0.36\n",
      "OnlineBackup_Yes                 0.45      0.45\n",
      "DeviceProtection_Yes             0.43      0.45\n",
      "TechSupport_Yes                  0.38      0.37\n",
      "StreamingTV_Yes                  0.50      0.49\n",
      "PaperlessBilling_Yes             0.59      0.59\n",
      "PaymentMethod_Check              0.57      0.57\n",
      "\n",
      "\n",
      "======================================\n",
      "\tPAPERLESSBILLING_YES\n",
      "======================================\n",
      "PaperlessBilling_Yes                0         1\n",
      "Population                    8545.13   8515.52\n",
      "Children                         1.92      1.97\n",
      "Age                             53.10     53.07\n",
      "Income                       38537.45  38131.75\n",
      "Outage_sec_perweek              10.04      9.99\n",
      "Email                           12.06     12.00\n",
      "Contacts                         0.94      0.94\n",
      "Yearly_equip_failure             0.37      0.38\n",
      "Tenure                          34.42     34.45\n",
      "MonthlyCharge                  172.61    172.82\n",
      "Bandwidth_GB_Year             3383.57   3378.47\n",
      "Area_Suburban                    0.34      0.33\n",
      "Area_Urban                       0.33      0.34\n",
      "Marital_Not_Married              0.81      0.81\n",
      "Gender_Male                      0.48      0.47\n",
      "Gender_Nonbinary                 0.03      0.02\n",
      "Churn_Yes                        0.26      0.27\n",
      "Techie_Yes                       0.17      0.17\n",
      "Contract_One year                0.22      0.21\n",
      "Contract_Two Year                0.24      0.25\n",
      "Port_modem_Yes                   0.48      0.49\n",
      "Tablet_Yes                       0.29      0.31\n",
      "InternetService_Fiber Optic      0.43      0.45\n",
      "InternetService_None             0.21      0.22\n",
      "Phone_Yes                        0.91      0.90\n",
      "Multiple_Yes                     0.47      0.46\n",
      "OnlineSecurity_Yes               0.36      0.36\n",
      "OnlineBackup_Yes                 0.44      0.46\n",
      "DeviceProtection_Yes             0.43      0.44\n",
      "TechSupport_Yes                  0.37      0.37\n",
      "StreamingTV_Yes                  0.50      0.49\n",
      "StreamingMovies_Yes              0.49      0.49\n",
      "PaymentMethod_Check              0.57      0.57\n",
      "\n",
      "\n",
      "======================================\n",
      "\tPAYMENTMETHOD_CHECK\n",
      "======================================\n",
      "PaymentMethod_Check                 0         1\n",
      "Population                    8723.96   8379.10\n",
      "Children                         1.95      1.94\n",
      "Age                             53.49     52.77\n",
      "Income                       37833.68  38651.29\n",
      "Outage_sec_perweek              10.02     10.00\n",
      "Email                           12.05     12.01\n",
      "Contacts                         0.96      0.93\n",
      "Yearly_equip_failure             0.38      0.37\n",
      "Tenure                          34.36     34.50\n",
      "MonthlyCharge                  173.44    172.19\n",
      "Bandwidth_GB_Year             3372.91   3386.38\n",
      "Area_Suburban                    0.34      0.33\n",
      "Area_Urban                       0.34      0.33\n",
      "Marital_Not_Married              0.81      0.81\n",
      "Gender_Male                      0.48      0.47\n",
      "Gender_Nonbinary                 0.02      0.02\n",
      "Churn_Yes                        0.26      0.27\n",
      "Techie_Yes                       0.17      0.17\n",
      "Contract_One year                0.21      0.21\n",
      "Contract_Two Year                0.24      0.24\n",
      "Port_modem_Yes                   0.48      0.48\n",
      "Tablet_Yes                       0.29      0.30\n",
      "InternetService_Fiber Optic      0.45      0.43\n",
      "InternetService_None             0.21      0.22\n",
      "Phone_Yes                        0.90      0.91\n",
      "Multiple_Yes                     0.47      0.46\n",
      "OnlineSecurity_Yes               0.35      0.36\n",
      "OnlineBackup_Yes                 0.45      0.45\n",
      "DeviceProtection_Yes             0.44      0.44\n",
      "TechSupport_Yes                  0.37      0.37\n",
      "StreamingTV_Yes                  0.50      0.49\n",
      "StreamingMovies_Yes              0.49      0.49\n",
      "PaperlessBilling_Yes             0.59      0.59\n"
     ]
    }
   ],
   "source": [
    "# Explore the mean values of numeric data in the data set.\n",
    "\n",
    "for c in pred_vars:\n",
    "    if c != target:\n",
    "        print('\\n\\n======================================')\n",
    "        print('\\t{}'.format(c.upper()))\n",
    "        print('======================================')\n",
    "        print(clean.groupby(c).mean().round(2).T)"
   ]
  },
  {
   "cell_type": "code",
   "execution_count": 32,
   "id": "9f609fda",
   "metadata": {
    "scrolled": true
   },
   "outputs": [
    {
     "data": {
      "text/html": [
       "<div>\n",
       "<style scoped>\n",
       "    .dataframe tbody tr th:only-of-type {\n",
       "        vertical-align: middle;\n",
       "    }\n",
       "\n",
       "    .dataframe tbody tr th {\n",
       "        vertical-align: top;\n",
       "    }\n",
       "\n",
       "    .dataframe thead th {\n",
       "        text-align: right;\n",
       "    }\n",
       "</style>\n",
       "<table border=\"1\" class=\"dataframe\">\n",
       "  <thead>\n",
       "    <tr style=\"text-align: right;\">\n",
       "      <th></th>\n",
       "      <th>count</th>\n",
       "      <th>mean</th>\n",
       "      <th>std</th>\n",
       "      <th>min</th>\n",
       "      <th>25%</th>\n",
       "      <th>50%</th>\n",
       "      <th>75%</th>\n",
       "      <th>max</th>\n",
       "    </tr>\n",
       "  </thead>\n",
       "  <tbody>\n",
       "    <tr>\n",
       "      <th>Population</th>\n",
       "      <td>9175.0</td>\n",
       "      <td>8527.719</td>\n",
       "      <td>11802.987</td>\n",
       "      <td>0.000</td>\n",
       "      <td>720.500</td>\n",
       "      <td>2723.000</td>\n",
       "      <td>11866.000</td>\n",
       "      <td>52967.000</td>\n",
       "    </tr>\n",
       "    <tr>\n",
       "      <th>Children</th>\n",
       "      <td>9175.0</td>\n",
       "      <td>1.945</td>\n",
       "      <td>1.897</td>\n",
       "      <td>0.000</td>\n",
       "      <td>0.000</td>\n",
       "      <td>1.000</td>\n",
       "      <td>3.000</td>\n",
       "      <td>8.000</td>\n",
       "    </tr>\n",
       "    <tr>\n",
       "      <th>Age</th>\n",
       "      <td>9175.0</td>\n",
       "      <td>53.078</td>\n",
       "      <td>20.653</td>\n",
       "      <td>18.000</td>\n",
       "      <td>35.000</td>\n",
       "      <td>53.000</td>\n",
       "      <td>71.000</td>\n",
       "      <td>89.000</td>\n",
       "    </tr>\n",
       "    <tr>\n",
       "      <th>Income</th>\n",
       "      <td>9175.0</td>\n",
       "      <td>38298.941</td>\n",
       "      <td>25056.127</td>\n",
       "      <td>348.670</td>\n",
       "      <td>19102.015</td>\n",
       "      <td>32783.940</td>\n",
       "      <td>52139.615</td>\n",
       "      <td>124025.100</td>\n",
       "    </tr>\n",
       "    <tr>\n",
       "      <th>Outage_sec_perweek</th>\n",
       "      <td>9175.0</td>\n",
       "      <td>10.007</td>\n",
       "      <td>2.928</td>\n",
       "      <td>1.145</td>\n",
       "      <td>8.023</td>\n",
       "      <td>10.021</td>\n",
       "      <td>11.964</td>\n",
       "      <td>18.852</td>\n",
       "    </tr>\n",
       "    <tr>\n",
       "      <th>Email</th>\n",
       "      <td>9175.0</td>\n",
       "      <td>12.024</td>\n",
       "      <td>3.008</td>\n",
       "      <td>3.000</td>\n",
       "      <td>10.000</td>\n",
       "      <td>12.000</td>\n",
       "      <td>14.000</td>\n",
       "      <td>21.000</td>\n",
       "    </tr>\n",
       "    <tr>\n",
       "      <th>Contacts</th>\n",
       "      <td>9175.0</td>\n",
       "      <td>0.940</td>\n",
       "      <td>0.899</td>\n",
       "      <td>0.000</td>\n",
       "      <td>0.000</td>\n",
       "      <td>1.000</td>\n",
       "      <td>2.000</td>\n",
       "      <td>3.000</td>\n",
       "    </tr>\n",
       "    <tr>\n",
       "      <th>Yearly_equip_failure</th>\n",
       "      <td>9175.0</td>\n",
       "      <td>0.374</td>\n",
       "      <td>0.582</td>\n",
       "      <td>0.000</td>\n",
       "      <td>0.000</td>\n",
       "      <td>0.000</td>\n",
       "      <td>1.000</td>\n",
       "      <td>2.000</td>\n",
       "    </tr>\n",
       "    <tr>\n",
       "      <th>Tenure</th>\n",
       "      <td>9175.0</td>\n",
       "      <td>34.440</td>\n",
       "      <td>26.451</td>\n",
       "      <td>1.005</td>\n",
       "      <td>7.894</td>\n",
       "      <td>30.178</td>\n",
       "      <td>61.415</td>\n",
       "      <td>71.999</td>\n",
       "    </tr>\n",
       "    <tr>\n",
       "      <th>MonthlyCharge</th>\n",
       "      <td>9175.0</td>\n",
       "      <td>172.730</td>\n",
       "      <td>42.994</td>\n",
       "      <td>79.979</td>\n",
       "      <td>139.979</td>\n",
       "      <td>169.938</td>\n",
       "      <td>202.443</td>\n",
       "      <td>290.160</td>\n",
       "    </tr>\n",
       "    <tr>\n",
       "      <th>Bandwidth_GB_Year</th>\n",
       "      <td>9175.0</td>\n",
       "      <td>3380.574</td>\n",
       "      <td>2186.226</td>\n",
       "      <td>155.507</td>\n",
       "      <td>1225.876</td>\n",
       "      <td>3158.141</td>\n",
       "      <td>5581.681</td>\n",
       "      <td>7158.982</td>\n",
       "    </tr>\n",
       "    <tr>\n",
       "      <th>Area_Suburban</th>\n",
       "      <td>9175.0</td>\n",
       "      <td>0.335</td>\n",
       "      <td>0.472</td>\n",
       "      <td>0.000</td>\n",
       "      <td>0.000</td>\n",
       "      <td>0.000</td>\n",
       "      <td>1.000</td>\n",
       "      <td>1.000</td>\n",
       "    </tr>\n",
       "    <tr>\n",
       "      <th>Area_Urban</th>\n",
       "      <td>9175.0</td>\n",
       "      <td>0.333</td>\n",
       "      <td>0.471</td>\n",
       "      <td>0.000</td>\n",
       "      <td>0.000</td>\n",
       "      <td>0.000</td>\n",
       "      <td>1.000</td>\n",
       "      <td>1.000</td>\n",
       "    </tr>\n",
       "    <tr>\n",
       "      <th>Marital_Not_Married</th>\n",
       "      <td>9175.0</td>\n",
       "      <td>0.809</td>\n",
       "      <td>0.393</td>\n",
       "      <td>0.000</td>\n",
       "      <td>1.000</td>\n",
       "      <td>1.000</td>\n",
       "      <td>1.000</td>\n",
       "      <td>1.000</td>\n",
       "    </tr>\n",
       "    <tr>\n",
       "      <th>Gender_Male</th>\n",
       "      <td>9175.0</td>\n",
       "      <td>0.474</td>\n",
       "      <td>0.499</td>\n",
       "      <td>0.000</td>\n",
       "      <td>0.000</td>\n",
       "      <td>0.000</td>\n",
       "      <td>1.000</td>\n",
       "      <td>1.000</td>\n",
       "    </tr>\n",
       "    <tr>\n",
       "      <th>Gender_Nonbinary</th>\n",
       "      <td>9175.0</td>\n",
       "      <td>0.023</td>\n",
       "      <td>0.151</td>\n",
       "      <td>0.000</td>\n",
       "      <td>0.000</td>\n",
       "      <td>0.000</td>\n",
       "      <td>0.000</td>\n",
       "      <td>1.000</td>\n",
       "    </tr>\n",
       "    <tr>\n",
       "      <th>Churn_Yes</th>\n",
       "      <td>9175.0</td>\n",
       "      <td>0.266</td>\n",
       "      <td>0.442</td>\n",
       "      <td>0.000</td>\n",
       "      <td>0.000</td>\n",
       "      <td>0.000</td>\n",
       "      <td>1.000</td>\n",
       "      <td>1.000</td>\n",
       "    </tr>\n",
       "    <tr>\n",
       "      <th>Techie_Yes</th>\n",
       "      <td>9175.0</td>\n",
       "      <td>0.168</td>\n",
       "      <td>0.374</td>\n",
       "      <td>0.000</td>\n",
       "      <td>0.000</td>\n",
       "      <td>0.000</td>\n",
       "      <td>0.000</td>\n",
       "      <td>1.000</td>\n",
       "    </tr>\n",
       "    <tr>\n",
       "      <th>Contract_One year</th>\n",
       "      <td>9175.0</td>\n",
       "      <td>0.211</td>\n",
       "      <td>0.408</td>\n",
       "      <td>0.000</td>\n",
       "      <td>0.000</td>\n",
       "      <td>0.000</td>\n",
       "      <td>0.000</td>\n",
       "      <td>1.000</td>\n",
       "    </tr>\n",
       "    <tr>\n",
       "      <th>Contract_Two Year</th>\n",
       "      <td>9175.0</td>\n",
       "      <td>0.244</td>\n",
       "      <td>0.430</td>\n",
       "      <td>0.000</td>\n",
       "      <td>0.000</td>\n",
       "      <td>0.000</td>\n",
       "      <td>0.000</td>\n",
       "      <td>1.000</td>\n",
       "    </tr>\n",
       "    <tr>\n",
       "      <th>Port_modem_Yes</th>\n",
       "      <td>9175.0</td>\n",
       "      <td>0.484</td>\n",
       "      <td>0.500</td>\n",
       "      <td>0.000</td>\n",
       "      <td>0.000</td>\n",
       "      <td>0.000</td>\n",
       "      <td>1.000</td>\n",
       "      <td>1.000</td>\n",
       "    </tr>\n",
       "    <tr>\n",
       "      <th>Tablet_Yes</th>\n",
       "      <td>9175.0</td>\n",
       "      <td>0.298</td>\n",
       "      <td>0.457</td>\n",
       "      <td>0.000</td>\n",
       "      <td>0.000</td>\n",
       "      <td>0.000</td>\n",
       "      <td>1.000</td>\n",
       "      <td>1.000</td>\n",
       "    </tr>\n",
       "    <tr>\n",
       "      <th>InternetService_Fiber Optic</th>\n",
       "      <td>9175.0</td>\n",
       "      <td>0.440</td>\n",
       "      <td>0.496</td>\n",
       "      <td>0.000</td>\n",
       "      <td>0.000</td>\n",
       "      <td>0.000</td>\n",
       "      <td>1.000</td>\n",
       "      <td>1.000</td>\n",
       "    </tr>\n",
       "    <tr>\n",
       "      <th>InternetService_None</th>\n",
       "      <td>9175.0</td>\n",
       "      <td>0.215</td>\n",
       "      <td>0.411</td>\n",
       "      <td>0.000</td>\n",
       "      <td>0.000</td>\n",
       "      <td>0.000</td>\n",
       "      <td>0.000</td>\n",
       "      <td>1.000</td>\n",
       "    </tr>\n",
       "    <tr>\n",
       "      <th>Phone_Yes</th>\n",
       "      <td>9175.0</td>\n",
       "      <td>0.906</td>\n",
       "      <td>0.292</td>\n",
       "      <td>0.000</td>\n",
       "      <td>1.000</td>\n",
       "      <td>1.000</td>\n",
       "      <td>1.000</td>\n",
       "      <td>1.000</td>\n",
       "    </tr>\n",
       "    <tr>\n",
       "      <th>Multiple_Yes</th>\n",
       "      <td>9175.0</td>\n",
       "      <td>0.465</td>\n",
       "      <td>0.499</td>\n",
       "      <td>0.000</td>\n",
       "      <td>0.000</td>\n",
       "      <td>0.000</td>\n",
       "      <td>1.000</td>\n",
       "      <td>1.000</td>\n",
       "    </tr>\n",
       "    <tr>\n",
       "      <th>OnlineSecurity_Yes</th>\n",
       "      <td>9175.0</td>\n",
       "      <td>0.357</td>\n",
       "      <td>0.479</td>\n",
       "      <td>0.000</td>\n",
       "      <td>0.000</td>\n",
       "      <td>0.000</td>\n",
       "      <td>1.000</td>\n",
       "      <td>1.000</td>\n",
       "    </tr>\n",
       "    <tr>\n",
       "      <th>OnlineBackup_Yes</th>\n",
       "      <td>9175.0</td>\n",
       "      <td>0.451</td>\n",
       "      <td>0.498</td>\n",
       "      <td>0.000</td>\n",
       "      <td>0.000</td>\n",
       "      <td>0.000</td>\n",
       "      <td>1.000</td>\n",
       "      <td>1.000</td>\n",
       "    </tr>\n",
       "    <tr>\n",
       "      <th>DeviceProtection_Yes</th>\n",
       "      <td>9175.0</td>\n",
       "      <td>0.437</td>\n",
       "      <td>0.496</td>\n",
       "      <td>0.000</td>\n",
       "      <td>0.000</td>\n",
       "      <td>0.000</td>\n",
       "      <td>1.000</td>\n",
       "      <td>1.000</td>\n",
       "    </tr>\n",
       "    <tr>\n",
       "      <th>TechSupport_Yes</th>\n",
       "      <td>9175.0</td>\n",
       "      <td>0.374</td>\n",
       "      <td>0.484</td>\n",
       "      <td>0.000</td>\n",
       "      <td>0.000</td>\n",
       "      <td>0.000</td>\n",
       "      <td>1.000</td>\n",
       "      <td>1.000</td>\n",
       "    </tr>\n",
       "    <tr>\n",
       "      <th>StreamingTV_Yes</th>\n",
       "      <td>9175.0</td>\n",
       "      <td>0.492</td>\n",
       "      <td>0.500</td>\n",
       "      <td>0.000</td>\n",
       "      <td>0.000</td>\n",
       "      <td>0.000</td>\n",
       "      <td>1.000</td>\n",
       "      <td>1.000</td>\n",
       "    </tr>\n",
       "    <tr>\n",
       "      <th>StreamingMovies_Yes</th>\n",
       "      <td>9175.0</td>\n",
       "      <td>0.490</td>\n",
       "      <td>0.500</td>\n",
       "      <td>0.000</td>\n",
       "      <td>0.000</td>\n",
       "      <td>0.000</td>\n",
       "      <td>1.000</td>\n",
       "      <td>1.000</td>\n",
       "    </tr>\n",
       "    <tr>\n",
       "      <th>PaperlessBilling_Yes</th>\n",
       "      <td>9175.0</td>\n",
       "      <td>0.588</td>\n",
       "      <td>0.492</td>\n",
       "      <td>0.000</td>\n",
       "      <td>0.000</td>\n",
       "      <td>1.000</td>\n",
       "      <td>1.000</td>\n",
       "      <td>1.000</td>\n",
       "    </tr>\n",
       "    <tr>\n",
       "      <th>PaymentMethod_Check</th>\n",
       "      <td>9175.0</td>\n",
       "      <td>0.569</td>\n",
       "      <td>0.495</td>\n",
       "      <td>0.000</td>\n",
       "      <td>0.000</td>\n",
       "      <td>1.000</td>\n",
       "      <td>1.000</td>\n",
       "      <td>1.000</td>\n",
       "    </tr>\n",
       "  </tbody>\n",
       "</table>\n",
       "</div>"
      ],
      "text/plain": [
       "                              count       mean        std      min        25%  \\\n",
       "Population                   9175.0   8527.719  11802.987    0.000    720.500   \n",
       "Children                     9175.0      1.945      1.897    0.000      0.000   \n",
       "Age                          9175.0     53.078     20.653   18.000     35.000   \n",
       "Income                       9175.0  38298.941  25056.127  348.670  19102.015   \n",
       "Outage_sec_perweek           9175.0     10.007      2.928    1.145      8.023   \n",
       "Email                        9175.0     12.024      3.008    3.000     10.000   \n",
       "Contacts                     9175.0      0.940      0.899    0.000      0.000   \n",
       "Yearly_equip_failure         9175.0      0.374      0.582    0.000      0.000   \n",
       "Tenure                       9175.0     34.440     26.451    1.005      7.894   \n",
       "MonthlyCharge                9175.0    172.730     42.994   79.979    139.979   \n",
       "Bandwidth_GB_Year            9175.0   3380.574   2186.226  155.507   1225.876   \n",
       "Area_Suburban                9175.0      0.335      0.472    0.000      0.000   \n",
       "Area_Urban                   9175.0      0.333      0.471    0.000      0.000   \n",
       "Marital_Not_Married          9175.0      0.809      0.393    0.000      1.000   \n",
       "Gender_Male                  9175.0      0.474      0.499    0.000      0.000   \n",
       "Gender_Nonbinary             9175.0      0.023      0.151    0.000      0.000   \n",
       "Churn_Yes                    9175.0      0.266      0.442    0.000      0.000   \n",
       "Techie_Yes                   9175.0      0.168      0.374    0.000      0.000   \n",
       "Contract_One year            9175.0      0.211      0.408    0.000      0.000   \n",
       "Contract_Two Year            9175.0      0.244      0.430    0.000      0.000   \n",
       "Port_modem_Yes               9175.0      0.484      0.500    0.000      0.000   \n",
       "Tablet_Yes                   9175.0      0.298      0.457    0.000      0.000   \n",
       "InternetService_Fiber Optic  9175.0      0.440      0.496    0.000      0.000   \n",
       "InternetService_None         9175.0      0.215      0.411    0.000      0.000   \n",
       "Phone_Yes                    9175.0      0.906      0.292    0.000      1.000   \n",
       "Multiple_Yes                 9175.0      0.465      0.499    0.000      0.000   \n",
       "OnlineSecurity_Yes           9175.0      0.357      0.479    0.000      0.000   \n",
       "OnlineBackup_Yes             9175.0      0.451      0.498    0.000      0.000   \n",
       "DeviceProtection_Yes         9175.0      0.437      0.496    0.000      0.000   \n",
       "TechSupport_Yes              9175.0      0.374      0.484    0.000      0.000   \n",
       "StreamingTV_Yes              9175.0      0.492      0.500    0.000      0.000   \n",
       "StreamingMovies_Yes          9175.0      0.490      0.500    0.000      0.000   \n",
       "PaperlessBilling_Yes         9175.0      0.588      0.492    0.000      0.000   \n",
       "PaymentMethod_Check          9175.0      0.569      0.495    0.000      0.000   \n",
       "\n",
       "                                   50%        75%         max  \n",
       "Population                    2723.000  11866.000   52967.000  \n",
       "Children                         1.000      3.000       8.000  \n",
       "Age                             53.000     71.000      89.000  \n",
       "Income                       32783.940  52139.615  124025.100  \n",
       "Outage_sec_perweek              10.021     11.964      18.852  \n",
       "Email                           12.000     14.000      21.000  \n",
       "Contacts                         1.000      2.000       3.000  \n",
       "Yearly_equip_failure             0.000      1.000       2.000  \n",
       "Tenure                          30.178     61.415      71.999  \n",
       "MonthlyCharge                  169.938    202.443     290.160  \n",
       "Bandwidth_GB_Year             3158.141   5581.681    7158.982  \n",
       "Area_Suburban                    0.000      1.000       1.000  \n",
       "Area_Urban                       0.000      1.000       1.000  \n",
       "Marital_Not_Married              1.000      1.000       1.000  \n",
       "Gender_Male                      0.000      1.000       1.000  \n",
       "Gender_Nonbinary                 0.000      0.000       1.000  \n",
       "Churn_Yes                        0.000      1.000       1.000  \n",
       "Techie_Yes                       0.000      0.000       1.000  \n",
       "Contract_One year                0.000      0.000       1.000  \n",
       "Contract_Two Year                0.000      0.000       1.000  \n",
       "Port_modem_Yes                   0.000      1.000       1.000  \n",
       "Tablet_Yes                       0.000      1.000       1.000  \n",
       "InternetService_Fiber Optic      0.000      1.000       1.000  \n",
       "InternetService_None             0.000      0.000       1.000  \n",
       "Phone_Yes                        1.000      1.000       1.000  \n",
       "Multiple_Yes                     0.000      1.000       1.000  \n",
       "OnlineSecurity_Yes               0.000      1.000       1.000  \n",
       "OnlineBackup_Yes                 0.000      1.000       1.000  \n",
       "DeviceProtection_Yes             0.000      1.000       1.000  \n",
       "TechSupport_Yes                  0.000      1.000       1.000  \n",
       "StreamingTV_Yes                  0.000      1.000       1.000  \n",
       "StreamingMovies_Yes              0.000      1.000       1.000  \n",
       "PaperlessBilling_Yes             1.000      1.000       1.000  \n",
       "PaymentMethod_Check              1.000      1.000       1.000  "
      ]
     },
     "execution_count": 32,
     "metadata": {},
     "output_type": "execute_result"
    }
   ],
   "source": [
    "# Describe the numeric data.\n",
    "\n",
    "pred_vars = clean.select_dtypes(include=\"number\").columns\n",
    "clean[pred_vars].describe().round(3).T"
   ]
  },
  {
   "cell_type": "code",
   "execution_count": 34,
   "id": "2c970117",
   "metadata": {
    "scrolled": true
   },
   "outputs": [
    {
     "data": {
      "text/plain": [
       "<Figure size 720x1440 with 0 Axes>"
      ]
     },
     "metadata": {},
     "output_type": "display_data"
    },
    {
     "data": {
      "image/png": "[encoded data removed]",
      "text/plain": [
       "<Figure size 1080x1080 with 36 Axes>"
      ]
     },
     "metadata": {
      "needs_background": "light"
     },
     "output_type": "display_data"
    }
   ],
   "source": [
    "# Univariate histogram plots of the numeric data.\n",
    "\n",
    "num_cols = clean.select_dtypes(include=\"number\").columns\n",
    "\n",
    "fig = plt.figure(figsize=(10, 20))\n",
    "ax = clean[num_cols].hist(bins = 15, figsize=(15,15))\n",
    "plt.title('Numeric Data')\n",
    "fig.tight_layout(h_pad=5, w_pad=5)\n",
    "plt.show()"
   ]
  },
  {
   "cell_type": "code",
   "execution_count": 35,
   "id": "2f8c8de4",
   "metadata": {
    "scrolled": true
   },
   "outputs": [],
   "source": [
    "# Bivariate histogram plots of each numeric variable compared to the target variable churn. \n",
    "\n",
    "def plot_histogram(c):\n",
    "    df_yes = clean[clean.Churn_Yes==1][c]\n",
    "    df_no = clean[clean.Churn_Yes==0][c]\n",
    "    yes_mean = df_yes.mean();\n",
    "    no_mean = df_no.mean(); \n",
    "    fig,ax = plt.subplots(figsize=(6,6))\n",
    "    ax.hist([df_yes,df_no], bins=5, stacked=True)\n",
    "    ax.legend(['Churn - Yes','Churn - No'])\n",
    "    ymin, ymax = ax.get_ylim();\n",
    "    xmin, xmax = ax.get_xlim()\n",
    "    ax.axvline(yes_mean, color='blue', lw=2) # yes mean\n",
    "    ax.axvline(no_mean, color='orangered', lw=2) # no mean\n",
    "    ax.text((xmax-xmin)/2,\n",
    "            (ymax-ymin)/2,\n",
    "            'Delta:\\n' + str(round(abs(yes_mean - no_mean),2)),\n",
    "            bbox={'facecolor':'white'})\n",
    "    plt.title('Histogram with target overlay by ' + str(c))\n",
    "    plt.xlabel(c); \n",
    "    plt.ylabel('# Churn');\n",
    "    plt.show();"
   ]
  },
  {
   "cell_type": "code",
   "execution_count": 36,
   "id": "0d0867a5",
   "metadata": {
    "scrolled": true
   },
   "outputs": [
    {
     "data": {
      "image/png": "[encoded data removed]",
      "text/plain": [
       "<Figure size 432x432 with 1 Axes>"
      ]
     },
     "metadata": {
      "needs_background": "light"
     },
     "output_type": "display_data"
    }
   ],
   "source": [
    "# Churn vs. Monthly Charge\n",
    "plot_histogram('MonthlyCharge')"
   ]
  },
  {
   "cell_type": "code",
   "execution_count": 37,
   "id": "9ee5e0d8",
   "metadata": {
    "scrolled": true
   },
   "outputs": [
    {
     "data": {
      "image/png": "[encoded data removed]",
      "text/plain": [
       "<Figure size 432x432 with 1 Axes>"
      ]
     },
     "metadata": {
      "needs_background": "light"
     },
     "output_type": "display_data"
    }
   ],
   "source": [
    "# Churn vs. Tenure\n",
    "plot_histogram('Tenure')"
   ]
  },
  {
   "cell_type": "code",
   "execution_count": 38,
   "id": "8109d80f",
   "metadata": {
    "scrolled": true
   },
   "outputs": [
    {
     "data": {
      "image/png": "[encoded data removed]",
      "text/plain": [
       "<Figure size 432x432 with 1 Axes>"
      ]
     },
     "metadata": {
      "needs_background": "light"
     },
     "output_type": "display_data"
    }
   ],
   "source": [
    "# Churn vs. Bandwidth_GB_Year\n",
    "plot_histogram('Bandwidth_GB_Year')"
   ]
  },
  {
   "cell_type": "code",
   "execution_count": 39,
   "id": "1bf122f7",
   "metadata": {
    "scrolled": true
   },
   "outputs": [
    {
     "data": {
      "image/png": "[encoded data removed]",
      "text/plain": [
       "<Figure size 432x432 with 1 Axes>"
      ]
     },
     "metadata": {
      "needs_background": "light"
     },
     "output_type": "display_data"
    }
   ],
   "source": [
    "# Churn vs. Age\n",
    "plot_histogram('Age')"
   ]
  },
  {
   "cell_type": "code",
   "execution_count": 40,
   "id": "66f289fa",
   "metadata": {
    "scrolled": true
   },
   "outputs": [
    {
     "data": {
      "image/png": "[encoded data removed]",
      "text/plain": [
       "<Figure size 432x432 with 1 Axes>"
      ]
     },
     "metadata": {
      "needs_background": "light"
     },
     "output_type": "display_data"
    }
   ],
   "source": [
    "# Churn vs. Income\n",
    "plot_histogram('Income')"
   ]
  },
  {
   "cell_type": "code",
   "execution_count": 41,
   "id": "ea432a4c",
   "metadata": {
    "scrolled": true
   },
   "outputs": [
    {
     "data": {
      "image/png": "[encoded data removed]",
      "text/plain": [
       "<Figure size 432x432 with 1 Axes>"
      ]
     },
     "metadata": {
      "needs_background": "light"
     },
     "output_type": "display_data"
    }
   ],
   "source": [
    "# Churn vs. Outage_sec_perweek\n",
    "plot_histogram('Outage_sec_perweek')"
   ]
  },
  {
   "cell_type": "code",
   "execution_count": 42,
   "id": "458c3c36",
   "metadata": {
    "scrolled": true
   },
   "outputs": [
    {
     "data": {
      "image/png": "[encoded data removed]",
      "text/plain": [
       "<Figure size 432x432 with 1 Axes>"
      ]
     },
     "metadata": {
      "needs_background": "light"
     },
     "output_type": "display_data"
    }
   ],
   "source": [
    "# Churn vs. Email\n",
    "plot_histogram('Email')"
   ]
  },
  {
   "cell_type": "code",
   "execution_count": 43,
   "id": "4ca028be",
   "metadata": {
    "scrolled": true
   },
   "outputs": [
    {
     "data": {
      "image/png": "[encoded data removed]",
      "text/plain": [
       "<Figure size 432x432 with 1 Axes>"
      ]
     },
     "metadata": {
      "needs_background": "light"
     },
     "output_type": "display_data"
    }
   ],
   "source": [
    "# Churn vs. Contacts\n",
    "plot_histogram('Contacts')"
   ]
  },
  {
   "cell_type": "code",
   "execution_count": 44,
   "id": "4e895aa2",
   "metadata": {
    "scrolled": true
   },
   "outputs": [
    {
     "data": {
      "image/png": "[encoded data removed]",
      "text/plain": [
       "<Figure size 432x432 with 1 Axes>"
      ]
     },
     "metadata": {
      "needs_background": "light"
     },
     "output_type": "display_data"
    }
   ],
   "source": [
    "# Churn vs. Yearly_equip_failure\n",
    "plot_histogram('Yearly_equip_failure')"
   ]
  },
  {
   "cell_type": "code",
   "execution_count": 45,
   "id": "01b5e73b",
   "metadata": {
    "scrolled": true
   },
   "outputs": [
    {
     "data": {
      "image/png": "[encoded data removed]",
      "text/plain": [
       "<Figure size 432x432 with 1 Axes>"
      ]
     },
     "metadata": {
      "needs_background": "light"
     },
     "output_type": "display_data"
    }
   ],
   "source": [
    "# Churn vs. Population\n",
    "plot_histogram('Population')"
   ]
  },
  {
   "cell_type": "code",
   "execution_count": 46,
   "id": "3c62e8eb",
   "metadata": {
    "scrolled": true
   },
   "outputs": [
    {
     "data": {
      "image/png": "[encoded data removed]",
      "text/plain": [
       "<Figure size 432x432 with 1 Axes>"
      ]
     },
     "metadata": {
      "needs_background": "light"
     },
     "output_type": "display_data"
    }
   ],
   "source": [
    "# Churn vs. Children\n",
    "plot_histogram('Children')"
   ]
  },
  {
   "cell_type": "markdown",
   "id": "a6aa6acc",
   "metadata": {},
   "source": [
    "#### Export Data"
   ]
  },
  {
   "cell_type": "code",
   "execution_count": 47,
   "id": "e48680cc",
   "metadata": {
    "scrolled": true
   },
   "outputs": [],
   "source": [
    "# Export the cleaned data set to a CSV file. \n",
    "clean.to_csv('clean_task2.csv')"
   ]
  },
  {
   "cell_type": "markdown",
   "id": "a889fadc",
   "metadata": {},
   "source": [
    "#### Initial Model"
   ]
  },
  {
   "cell_type": "code",
   "execution_count": 48,
   "id": "390ff2de",
   "metadata": {
    "scrolled": true
   },
   "outputs": [
    {
     "name": "stdout",
     "output_type": "stream",
     "text": [
      "length of oversampled data is  9418\n",
      "Number of no churn in oversampled data 4709\n",
      "Number of churn 4709\n",
      "Proportion of no churn data in oversampled data is  0.5\n",
      "Proportion of churn data in oversampled data is  0.5\n"
     ]
    }
   ],
   "source": [
    "# Rebalance the data using Synthetic Minority Oversampling Technique (SMOTE).\n",
    "\n",
    "X = clean.loc[:, clean.columns != 'Churn_Yes']\n",
    "y = clean.loc[:, clean.columns == 'Churn_Yes']\n",
    "\n",
    "from imblearn.over_sampling import SMOTE\n",
    "\n",
    "os = SMOTE(random_state=0)\n",
    "X_train, X_test, y_train, y_test = train_test_split(X, y,test_size=0.3, random_state=0)\n",
    "columns = X_train.columns\n",
    "os_data_X,os_data_y=os.fit_resample(X_train, y_train)\n",
    "os_data_X = pd.DataFrame(data=os_data_X,columns=columns )\n",
    "os_data_y= pd.DataFrame(data=os_data_y,columns=['Churn_Yes'])\n",
    "\n",
    "# Verify the data.\n",
    "print(\"length of oversampled data is \",len(os_data_X))\n",
    "print(\"Number of no churn in oversampled data\",len(os_data_y[os_data_y['Churn_Yes']==0]))\n",
    "print(\"Number of churn\",len(os_data_y[os_data_y['Churn_Yes']==1]))\n",
    "print(\"Proportion of no churn data in oversampled data is \",len(os_data_y[os_data_y['Churn_Yes']==0])/len(os_data_X))\n",
    "print(\"Proportion of churn data in oversampled data is \",len(os_data_y[os_data_y['Churn_Yes']==1])/len(os_data_X))"
   ]
  },
  {
   "cell_type": "code",
   "execution_count": 49,
   "id": "2a855d47",
   "metadata": {
    "scrolled": true
   },
   "outputs": [
    {
     "name": "stderr",
     "output_type": "stream",
     "text": [
      "/Users/jillrivera/Library/Python/3.8/lib/python/site-packages/sklearn/linear_model/_logistic.py:444: ConvergenceWarning: lbfgs failed to converge (status=1):\n",
      "STOP: TOTAL NO. of ITERATIONS REACHED LIMIT.\n",
      "\n",
      "Increase the number of iterations (max_iter) or scale the data as shown in:\n",
      "    https://scikit-learn.org/stable/modules/preprocessing.html\n",
      "Please also refer to the documentation for alternative solver options:\n",
      "    https://scikit-learn.org/stable/modules/linear_model.html#logistic-regression\n",
      "  n_iter_i = _check_optimize_result(\n",
      "/Users/jillrivera/Library/Python/3.8/lib/python/site-packages/sklearn/linear_model/_logistic.py:444: ConvergenceWarning: lbfgs failed to converge (status=1):\n",
      "STOP: TOTAL NO. of ITERATIONS REACHED LIMIT.\n",
      "\n",
      "Increase the number of iterations (max_iter) or scale the data as shown in:\n",
      "    https://scikit-learn.org/stable/modules/preprocessing.html\n",
      "Please also refer to the documentation for alternative solver options:\n",
      "    https://scikit-learn.org/stable/modules/linear_model.html#logistic-regression\n",
      "  n_iter_i = _check_optimize_result(\n",
      "/Users/jillrivera/Library/Python/3.8/lib/python/site-packages/sklearn/linear_model/_logistic.py:444: ConvergenceWarning: lbfgs failed to converge (status=1):\n",
      "STOP: TOTAL NO. of ITERATIONS REACHED LIMIT.\n",
      "\n",
      "Increase the number of iterations (max_iter) or scale the data as shown in:\n",
      "    https://scikit-learn.org/stable/modules/preprocessing.html\n",
      "Please also refer to the documentation for alternative solver options:\n",
      "    https://scikit-learn.org/stable/modules/linear_model.html#logistic-regression\n",
      "  n_iter_i = _check_optimize_result(\n",
      "/Users/jillrivera/Library/Python/3.8/lib/python/site-packages/sklearn/linear_model/_logistic.py:444: ConvergenceWarning: lbfgs failed to converge (status=1):\n",
      "STOP: TOTAL NO. of ITERATIONS REACHED LIMIT.\n",
      "\n",
      "Increase the number of iterations (max_iter) or scale the data as shown in:\n",
      "    https://scikit-learn.org/stable/modules/preprocessing.html\n",
      "Please also refer to the documentation for alternative solver options:\n",
      "    https://scikit-learn.org/stable/modules/linear_model.html#logistic-regression\n",
      "  n_iter_i = _check_optimize_result(\n",
      "/Users/jillrivera/Library/Python/3.8/lib/python/site-packages/sklearn/linear_model/_logistic.py:444: ConvergenceWarning: lbfgs failed to converge (status=1):\n",
      "STOP: TOTAL NO. of ITERATIONS REACHED LIMIT.\n",
      "\n",
      "Increase the number of iterations (max_iter) or scale the data as shown in:\n",
      "    https://scikit-learn.org/stable/modules/preprocessing.html\n",
      "Please also refer to the documentation for alternative solver options:\n",
      "    https://scikit-learn.org/stable/modules/linear_model.html#logistic-regression\n",
      "  n_iter_i = _check_optimize_result(\n",
      "/Users/jillrivera/Library/Python/3.8/lib/python/site-packages/sklearn/linear_model/_logistic.py:444: ConvergenceWarning: lbfgs failed to converge (status=1):\n",
      "STOP: TOTAL NO. of ITERATIONS REACHED LIMIT.\n",
      "\n",
      "Increase the number of iterations (max_iter) or scale the data as shown in:\n",
      "    https://scikit-learn.org/stable/modules/preprocessing.html\n",
      "Please also refer to the documentation for alternative solver options:\n",
      "    https://scikit-learn.org/stable/modules/linear_model.html#logistic-regression\n",
      "  n_iter_i = _check_optimize_result(\n",
      "/Users/jillrivera/Library/Python/3.8/lib/python/site-packages/sklearn/linear_model/_logistic.py:444: ConvergenceWarning: lbfgs failed to converge (status=1):\n",
      "STOP: TOTAL NO. of ITERATIONS REACHED LIMIT.\n",
      "\n",
      "Increase the number of iterations (max_iter) or scale the data as shown in:\n",
      "    https://scikit-learn.org/stable/modules/preprocessing.html\n",
      "Please also refer to the documentation for alternative solver options:\n",
      "    https://scikit-learn.org/stable/modules/linear_model.html#logistic-regression\n",
      "  n_iter_i = _check_optimize_result(\n",
      "/Users/jillrivera/Library/Python/3.8/lib/python/site-packages/sklearn/linear_model/_logistic.py:444: ConvergenceWarning: lbfgs failed to converge (status=1):\n",
      "STOP: TOTAL NO. of ITERATIONS REACHED LIMIT.\n",
      "\n",
      "Increase the number of iterations (max_iter) or scale the data as shown in:\n",
      "    https://scikit-learn.org/stable/modules/preprocessing.html\n",
      "Please also refer to the documentation for alternative solver options:\n",
      "    https://scikit-learn.org/stable/modules/linear_model.html#logistic-regression\n",
      "  n_iter_i = _check_optimize_result(\n",
      "/Users/jillrivera/Library/Python/3.8/lib/python/site-packages/sklearn/linear_model/_logistic.py:444: ConvergenceWarning: lbfgs failed to converge (status=1):\n",
      "STOP: TOTAL NO. of ITERATIONS REACHED LIMIT.\n",
      "\n",
      "Increase the number of iterations (max_iter) or scale the data as shown in:\n",
      "    https://scikit-learn.org/stable/modules/preprocessing.html\n",
      "Please also refer to the documentation for alternative solver options:\n",
      "    https://scikit-learn.org/stable/modules/linear_model.html#logistic-regression\n",
      "  n_iter_i = _check_optimize_result(\n",
      "/Users/jillrivera/Library/Python/3.8/lib/python/site-packages/sklearn/linear_model/_logistic.py:444: ConvergenceWarning: lbfgs failed to converge (status=1):\n",
      "STOP: TOTAL NO. of ITERATIONS REACHED LIMIT.\n",
      "\n",
      "Increase the number of iterations (max_iter) or scale the data as shown in:\n",
      "    https://scikit-learn.org/stable/modules/preprocessing.html\n",
      "Please also refer to the documentation for alternative solver options:\n",
      "    https://scikit-learn.org/stable/modules/linear_model.html#logistic-regression\n",
      "  n_iter_i = _check_optimize_result(\n",
      "/Users/jillrivera/Library/Python/3.8/lib/python/site-packages/sklearn/linear_model/_logistic.py:444: ConvergenceWarning: lbfgs failed to converge (status=1):\n",
      "STOP: TOTAL NO. of ITERATIONS REACHED LIMIT.\n",
      "\n",
      "Increase the number of iterations (max_iter) or scale the data as shown in:\n",
      "    https://scikit-learn.org/stable/modules/preprocessing.html\n",
      "Please also refer to the documentation for alternative solver options:\n",
      "    https://scikit-learn.org/stable/modules/linear_model.html#logistic-regression\n",
      "  n_iter_i = _check_optimize_result(\n"
     ]
    },
    {
     "name": "stdout",
     "output_type": "stream",
     "text": [
      "The following features are selected:\n",
      "Column: 7, Rank: 1.000, Feature: Yearly_equip_failure\n",
      "Column: 8, Rank: 1.000, Feature: Tenure\n",
      "Column: 11, Rank: 1.000, Feature: Area_Suburban\n",
      "Column: 12, Rank: 1.000, Feature: Area_Urban\n",
      "Column: 13, Rank: 1.000, Feature: Marital_Not_Married\n",
      "Column: 15, Rank: 1.000, Feature: Gender_Nonbinary\n",
      "Column: 16, Rank: 1.000, Feature: Techie_Yes\n",
      "Column: 17, Rank: 1.000, Feature: Contract_One year\n",
      "Column: 18, Rank: 1.000, Feature: Contract_Two Year\n",
      "Column: 19, Rank: 1.000, Feature: Port_modem_Yes\n",
      "Column: 20, Rank: 1.000, Feature: Tablet_Yes\n",
      "Column: 21, Rank: 1.000, Feature: InternetService_Fiber Optic\n",
      "Column: 22, Rank: 1.000, Feature: InternetService_None\n",
      "Column: 23, Rank: 1.000, Feature: Phone_Yes\n",
      "Column: 24, Rank: 1.000, Feature: Multiple_Yes\n",
      "Column: 25, Rank: 1.000, Feature: OnlineSecurity_Yes\n",
      "Column: 26, Rank: 1.000, Feature: OnlineBackup_Yes\n",
      "Column: 27, Rank: 1.000, Feature: DeviceProtection_Yes\n",
      "Column: 28, Rank: 1.000, Feature: TechSupport_Yes\n",
      "Column: 32, Rank: 1.000, Feature: PaymentMethod_Check\n"
     ]
    },
    {
     "name": "stderr",
     "output_type": "stream",
     "text": [
      "/Users/jillrivera/Library/Python/3.8/lib/python/site-packages/sklearn/linear_model/_logistic.py:444: ConvergenceWarning: lbfgs failed to converge (status=1):\n",
      "STOP: TOTAL NO. of ITERATIONS REACHED LIMIT.\n",
      "\n",
      "Increase the number of iterations (max_iter) or scale the data as shown in:\n",
      "    https://scikit-learn.org/stable/modules/preprocessing.html\n",
      "Please also refer to the documentation for alternative solver options:\n",
      "    https://scikit-learn.org/stable/modules/linear_model.html#logistic-regression\n",
      "  n_iter_i = _check_optimize_result(\n",
      "/Users/jillrivera/Library/Python/3.8/lib/python/site-packages/sklearn/linear_model/_logistic.py:444: ConvergenceWarning: lbfgs failed to converge (status=1):\n",
      "STOP: TOTAL NO. of ITERATIONS REACHED LIMIT.\n",
      "\n",
      "Increase the number of iterations (max_iter) or scale the data as shown in:\n",
      "    https://scikit-learn.org/stable/modules/preprocessing.html\n",
      "Please also refer to the documentation for alternative solver options:\n",
      "    https://scikit-learn.org/stable/modules/linear_model.html#logistic-regression\n",
      "  n_iter_i = _check_optimize_result(\n"
     ]
    }
   ],
   "source": [
    "# Recursive Feature Elimination (RFE) is used to rank the features for reduction. \n",
    "\n",
    "data_final_vars=clean.columns.values.tolist()\n",
    "y=[target]\n",
    "X=[i for i in data_final_vars if i not in y]\n",
    "\n",
    "from sklearn.feature_selection import RFE\n",
    "from sklearn.linear_model import LogisticRegression\n",
    "\n",
    "logreg = LogisticRegression()\n",
    "rfe = RFE(logreg, n_features_to_select = 20)\n",
    "rfe = rfe.fit(os_data_X, os_data_y.values.ravel())\n",
    "features =[]\n",
    "print('The following features are selected:')\n",
    "for i in range(os_data_X.shape[1]):\n",
    "    if rfe.support_[i] == True:\n",
    "        features.append(os_data_X.columns[i])\n",
    "        print('Column: %d, Rank: %.3f, Feature: %s' % \n",
    "          (i, rfe.ranking_[i],\n",
    "           os_data_X.columns[i]))"
   ]
  },
  {
   "cell_type": "code",
   "execution_count": 51,
   "id": "4a3d29e5",
   "metadata": {
    "scrolled": true
   },
   "outputs": [
    {
     "name": "stdout",
     "output_type": "stream",
     "text": [
      "Optimization terminated successfully.\n",
      "         Current function value: inf\n",
      "         Iterations 7\n",
      "                               Results: Logit\n",
      "============================================================================\n",
      "Model:                   Logit                 Pseudo R-squared:      inf   \n",
      "Dependent Variable:      Churn_Yes             AIC:                   inf   \n",
      "Date:                    2022-06-02 11:27      BIC:                   inf   \n",
      "No. Observations:        9418                  Log-Likelihood:        -inf  \n",
      "Df Model:                20                    LL-Null:               0.0000\n",
      "Df Residuals:            9397                  LLR p-value:           1.0000\n",
      "Converged:               1.0000                Scale:                 1.0000\n",
      "No. Iterations:          7.0000                                             \n",
      "----------------------------------------------------------------------------\n",
      "                             Coef.  Std.Err.    z     P>|z|   [0.025  0.975]\n",
      "----------------------------------------------------------------------------\n",
      "const                        4.7777   0.1507  31.7068 0.0000  4.4824  5.0731\n",
      "Yearly_equip_failure        -0.1534   0.0595  -2.5788 0.0099 -0.2701 -0.0368\n",
      "Tenure                      -0.0709   0.0017 -42.9443 0.0000 -0.0742 -0.0677\n",
      "Area_Suburban               -0.8502   0.0785 -10.8286 0.0000 -1.0041 -0.6963\n",
      "Area_Urban                  -0.9178   0.0795 -11.5502 0.0000 -1.0736 -0.7621\n",
      "Marital_Not_Married         -0.1828   0.0785  -2.3293 0.0198 -0.3367 -0.0290\n",
      "Gender_Nonbinary            -0.8048   0.2570  -3.1314 0.0017 -1.3085 -0.3011\n",
      "Techie_Yes                   0.1621   0.0922   1.7587 0.0786 -0.0186  0.3429\n",
      "Contract_One year           -2.4439   0.0967 -25.2682 0.0000 -2.6334 -2.2543\n",
      "Contract_Two Year           -2.6885   0.0971 -27.6835 0.0000 -2.8788 -2.4981\n",
      "Port_modem_Yes              -0.2721   0.0654  -4.1589 0.0000 -0.4004 -0.1439\n",
      "Tablet_Yes                  -0.3898   0.0761  -5.1233 0.0000 -0.5389 -0.2407\n",
      "InternetService_Fiber Optic -1.4558   0.0735 -19.7959 0.0000 -1.5999 -1.3116\n",
      "InternetService_None        -1.6008   0.0953 -16.7990 0.0000 -1.7875 -1.4140\n",
      "Phone_Yes                   -0.7814   0.1041  -7.5087 0.0000 -0.9854 -0.5774\n",
      "Multiple_Yes                 0.7711   0.0677  11.3821 0.0000  0.6383  0.9039\n",
      "OnlineSecurity_Yes          -0.4810   0.0714  -6.7344 0.0000 -0.6210 -0.3410\n",
      "OnlineBackup_Yes             0.2099   0.0667   3.1471 0.0016  0.0792  0.3406\n",
      "DeviceProtection_Yes        -0.0605   0.0671  -0.9018 0.3672 -0.1920  0.0710\n",
      "TechSupport_Yes             -0.3081   0.0695  -4.4299 0.0000 -0.4444 -0.1718\n",
      "PaymentMethod_Check         -0.1244   0.0648  -1.9184 0.0551 -0.2514  0.0027\n",
      "============================================================================\n",
      "\n"
     ]
    },
    {
     "name": "stderr",
     "output_type": "stream",
     "text": [
      "/Users/jillrivera/Library/Python/3.8/lib/python/site-packages/statsmodels/discrete/discrete_model.py:1819: RuntimeWarning: overflow encountered in exp\n",
      "  return 1/(1+np.exp(-X))\n",
      "/Users/jillrivera/Library/Python/3.8/lib/python/site-packages/statsmodels/discrete/discrete_model.py:1872: RuntimeWarning: divide by zero encountered in log\n",
      "  return np.sum(np.log(self.cdf(q*np.dot(X,params))))\n",
      "/Users/jillrivera/Library/Python/3.8/lib/python/site-packages/statsmodels/discrete/discrete_model.py:1819: RuntimeWarning: overflow encountered in exp\n",
      "  return 1/(1+np.exp(-X))\n",
      "/Users/jillrivera/Library/Python/3.8/lib/python/site-packages/statsmodels/discrete/discrete_model.py:1872: RuntimeWarning: divide by zero encountered in log\n",
      "  return np.sum(np.log(self.cdf(q*np.dot(X,params))))\n",
      "/Users/jillrivera/Library/Python/3.8/lib/python/site-packages/statsmodels/base/model.py:592: HessianInversionWarning: Inverting hessian failed, no bse or cov_params available\n",
      "  warnings.warn('Inverting hessian failed, no bse or cov_params '\n",
      "/Users/jillrivera/Library/Python/3.8/lib/python/site-packages/statsmodels/base/model.py:592: HessianInversionWarning: Inverting hessian failed, no bse or cov_params available\n",
      "  warnings.warn('Inverting hessian failed, no bse or cov_params '\n"
     ]
    }
   ],
   "source": [
    "# Select the highest ranked features from the RFE. \n",
    "X=os_data_X[features] # From RFE above\n",
    "Xc = sm.add_constant(X) # Reset\n",
    "y=os_data_y[target]\n",
    "logit_model=sm.Logit(y,Xc)\n",
    "result=logit_model.fit()\n",
    "print(result.summary2())"
   ]
  },
  {
   "cell_type": "code",
   "execution_count": 52,
   "id": "95342934",
   "metadata": {
    "scrolled": true
   },
   "outputs": [
    {
     "name": "stderr",
     "output_type": "stream",
     "text": [
      "/Users/jillrivera/Library/Python/3.8/lib/python/site-packages/sklearn/linear_model/_logistic.py:444: ConvergenceWarning: lbfgs failed to converge (status=1):\n",
      "STOP: TOTAL NO. of ITERATIONS REACHED LIMIT.\n",
      "\n",
      "Increase the number of iterations (max_iter) or scale the data as shown in:\n",
      "    https://scikit-learn.org/stable/modules/preprocessing.html\n",
      "Please also refer to the documentation for alternative solver options:\n",
      "    https://scikit-learn.org/stable/modules/linear_model.html#logistic-regression\n",
      "  n_iter_i = _check_optimize_result(\n"
     ]
    },
    {
     "data": {
      "image/png": "[encoded data removed]",
      "text/plain": [
       "<Figure size 432x288 with 2 Axes>"
      ]
     },
     "metadata": {
      "needs_background": "light"
     },
     "output_type": "display_data"
    }
   ],
   "source": [
    "# Confusion matrix for initial model.\n",
    "\n",
    "X_train, X_test, y_train, y_test = train_test_split(X, y,test_size=0.3, random_state=0)\n",
    "lgr = LogisticRegression()\n",
    "lgr.fit(X_train, y_train)\n",
    "predicted = lgr.predict(X_test)\n",
    "expected = y_test\n",
    "confusion = pd.DataFrame(confusion_matrix(y_true=expected, y_pred=predicted),\n",
    "                    index=range(2),columns=range(2))\n",
    "axes = sns.heatmap(confusion, annot=True,cmap='nipy_spectral_r', fmt='g')"
   ]
  },
  {
   "cell_type": "code",
   "execution_count": 53,
   "id": "af7958fb",
   "metadata": {
    "scrolled": true
   },
   "outputs": [
    {
     "name": "stdout",
     "output_type": "stream",
     "text": [
      "Correct predictions on diagonal: 2410 (85%)\n",
      "Incorrect predictions off diagonal: 416 (15%)\n"
     ]
    }
   ],
   "source": [
    "# Calculate the number and percentage of predictions.\n",
    "\n",
    "correct = sum(np.diagonal(confusion)) # on diag\n",
    "total = confusion.values.sum()\n",
    "incorrect = total - correct # off diag\n",
    "print('Correct predictions on diagonal: {} ({:.0%})'.format( correct, correct / total ))\n",
    "print('Incorrect predictions off diagonal: {} ({:.0%})'.format( incorrect, incorrect / total )) "
   ]
  },
  {
   "cell_type": "code",
   "execution_count": 54,
   "id": "22c92ac1",
   "metadata": {
    "scrolled": true
   },
   "outputs": [
    {
     "data": {
      "text/plain": [
       "Area_Suburban                Area_Urban                     0.355\n",
       "InternetService_Fiber Optic  InternetService_None           0.322\n",
       "Contract_One year            Contract_Two Year              0.190\n",
       "Tenure                       Contract_Two Year              0.122\n",
       "                             OnlineBackup_Yes               0.114\n",
       "                             OnlineSecurity_Yes             0.112\n",
       "                             Port_modem_Yes                 0.109\n",
       "                             Tablet_Yes                     0.098\n",
       "Yearly_equip_failure         Tenure                         0.098\n",
       "Tenure                       Contract_One year              0.097\n",
       "                             InternetService_Fiber Optic    0.093\n",
       "Contract_Two Year            OnlineSecurity_Yes             0.093\n",
       "Tenure                       Area_Urban                     0.090\n",
       "                             TechSupport_Yes                0.090\n",
       "                             Area_Suburban                  0.086\n",
       "Area_Suburban                Contract_Two Year              0.083\n",
       "Tablet_Yes                   OnlineSecurity_Yes             0.078\n",
       "Contract_Two Year            Port_modem_Yes                 0.078\n",
       "Tenure                       InternetService_None           0.077\n",
       "OnlineSecurity_Yes           OnlineBackup_Yes               0.076\n",
       "dtype: float64"
      ]
     },
     "execution_count": 54,
     "metadata": {},
     "output_type": "execute_result"
    }
   ],
   "source": [
    "# Find predictor pairs with high correlation.\n",
    "\n",
    "def redundant_pairs(clean):\n",
    "    '''Get diagonal and lower triangular pairs of correlation matrix'''\n",
    "    pairs_to_drop = set()\n",
    "    cols = clean.columns\n",
    "    for i in range(0, clean.shape[1]):\n",
    "        for j in range(0, i+1):\n",
    "            pairs_to_drop.add((cols[i], cols[j]))\n",
    "    return pairs_to_drop\n",
    "\n",
    "def top_abs_correlations(clean, n=5):\n",
    "    corr = clean.corr().abs().unstack()\n",
    "    labels_to_drop = redundant_pairs(clean)\n",
    "    corr = corr.drop(labels=labels_to_drop).sort_values(ascending=False)\n",
    "    return corr[0:n]\n",
    "top_abs_correlations(X, 20)"
   ]
  },
  {
   "cell_type": "markdown",
   "id": "5499428d",
   "metadata": {},
   "source": [
    "#### Reduced Model"
   ]
  },
  {
   "cell_type": "code",
   "execution_count": 55,
   "id": "3840882a",
   "metadata": {
    "scrolled": true
   },
   "outputs": [
    {
     "name": "stdout",
     "output_type": "stream",
     "text": [
      "Optimization terminated successfully.\n",
      "         Current function value: inf\n",
      "         Iterations 7\n",
      "                               Results: Logit\n",
      "============================================================================\n",
      "Model:                   Logit                 Pseudo R-squared:      inf   \n",
      "Dependent Variable:      Churn_Yes             AIC:                   inf   \n",
      "Date:                    2022-06-02 13:00      BIC:                   inf   \n",
      "No. Observations:        9418                  Log-Likelihood:        -inf  \n",
      "Df Model:                15                    LL-Null:               0.0000\n",
      "Df Residuals:            9402                  LLR p-value:           1.0000\n",
      "Converged:               1.0000                Scale:                 1.0000\n",
      "No. Iterations:          7.0000                                             \n",
      "----------------------------------------------------------------------------\n",
      "                             Coef.  Std.Err.    z     P>|z|   [0.025  0.975]\n",
      "----------------------------------------------------------------------------\n",
      "const                        4.0234   0.1236  32.5608 0.0000  3.7812  4.2656\n",
      "Yearly_equip_failure        -0.2121   0.0575  -3.6896 0.0002 -0.3248 -0.0994\n",
      "Tenure                      -0.0687   0.0016 -44.2083 0.0000 -0.0717 -0.0656\n",
      "Area_Suburban               -0.5482   0.0702  -7.8060 0.0000 -0.6859 -0.4106\n",
      "Gender_Nonbinary            -0.8306   0.2483  -3.3459 0.0008 -1.3172 -0.3441\n",
      "Contract_One year           -2.4848   0.0927 -26.7912 0.0000 -2.6665 -2.3030\n",
      "Contract_Two Year           -2.7033   0.0932 -29.0031 0.0000 -2.8860 -2.5206\n",
      "Port_modem_Yes              -0.3143   0.0631  -4.9817 0.0000 -0.4380 -0.1906\n",
      "Tablet_Yes                  -0.4906   0.0737  -6.6611 0.0000 -0.6350 -0.3463\n",
      "InternetService_Fiber Optic -1.0317   0.0655 -15.7425 0.0000 -1.1601 -0.9032\n",
      "Phone_Yes                   -0.7787   0.0989  -7.8735 0.0000 -0.9725 -0.5849\n",
      "Multiple_Yes                 0.7081   0.0652  10.8534 0.0000  0.5803  0.8360\n",
      "OnlineSecurity_Yes          -0.5187   0.0692  -7.4961 0.0000 -0.6543 -0.3830\n",
      "OnlineBackup_Yes             0.1214   0.0643   1.8883 0.0590 -0.0046  0.2474\n",
      "TechSupport_Yes             -0.3933   0.0671  -5.8645 0.0000 -0.5248 -0.2619\n",
      "PaymentMethod_Check         -0.1939   0.0623  -3.1120 0.0019 -0.3160 -0.0718\n",
      "============================================================================\n",
      "\n"
     ]
    },
    {
     "name": "stderr",
     "output_type": "stream",
     "text": [
      "/Users/jillrivera/Library/Python/3.8/lib/python/site-packages/statsmodels/discrete/discrete_model.py:1819: RuntimeWarning: overflow encountered in exp\n",
      "  return 1/(1+np.exp(-X))\n",
      "/Users/jillrivera/Library/Python/3.8/lib/python/site-packages/statsmodels/discrete/discrete_model.py:1872: RuntimeWarning: divide by zero encountered in log\n",
      "  return np.sum(np.log(self.cdf(q*np.dot(X,params))))\n",
      "/Users/jillrivera/Library/Python/3.8/lib/python/site-packages/statsmodels/discrete/discrete_model.py:1819: RuntimeWarning: overflow encountered in exp\n",
      "  return 1/(1+np.exp(-X))\n",
      "/Users/jillrivera/Library/Python/3.8/lib/python/site-packages/statsmodels/discrete/discrete_model.py:1872: RuntimeWarning: divide by zero encountered in log\n",
      "  return np.sum(np.log(self.cdf(q*np.dot(X,params))))\n",
      "/Users/jillrivera/Library/Python/3.8/lib/python/site-packages/statsmodels/base/model.py:592: HessianInversionWarning: Inverting hessian failed, no bse or cov_params available\n",
      "  warnings.warn('Inverting hessian failed, no bse or cov_params '\n",
      "/Users/jillrivera/Library/Python/3.8/lib/python/site-packages/statsmodels/base/model.py:592: HessianInversionWarning: Inverting hessian failed, no bse or cov_params available\n",
      "  warnings.warn('Inverting hessian failed, no bse or cov_params '\n"
     ]
    }
   ],
   "source": [
    "# Remove features with high p-values or multicollinearity. \n",
    "features.remove('Marital_Not_Married')\n",
    "features.remove('DeviceProtection_Yes')\n",
    "features.remove('Techie_Yes')\n",
    "\n",
    "# Remove features with high multicollinearity.\n",
    "features.remove('Area_Urban') \n",
    "features.remove('InternetService_None') \n",
    "\n",
    "# Reset and rerun the model.\n",
    "X=os_data_X[features]\n",
    "y=os_data_y[target]\n",
    "Xc = sm.add_constant(X)\n",
    "logit_model=sm.Logit(y,Xc)\n",
    "result=logit_model.fit()\n",
    "print(result.summary2())"
   ]
  },
  {
   "cell_type": "code",
   "execution_count": 56,
   "id": "45d15cff",
   "metadata": {
    "scrolled": true
   },
   "outputs": [
    {
     "data": {
      "image/png": "[encoded data removed]",
      "text/plain": [
       "<Figure size 432x288 with 2 Axes>"
      ]
     },
     "metadata": {
      "needs_background": "light"
     },
     "output_type": "display_data"
    }
   ],
   "source": [
    "# Reduced model confusion matrix.\n",
    "X_train, X_test, y_train, y_test = train_test_split(X, y,test_size=0.3, random_state=0)\n",
    "lgr = LogisticRegression()\n",
    "lgr.fit(X_train, y_train)\n",
    "predicted = lgr.predict(X_test)\n",
    "expected = y_test\n",
    "confusion = pd.DataFrame(confusion_matrix(y_true=expected, y_pred=predicted),\n",
    "                    index=range(2),columns=range(2))\n",
    "axes = sns.heatmap(confusion, annot=True,cmap='nipy_spectral_r', fmt='g')"
   ]
  },
  {
   "cell_type": "code",
   "execution_count": 58,
   "id": "a0d5e330",
   "metadata": {
    "scrolled": true
   },
   "outputs": [
    {
     "name": "stdout",
     "output_type": "stream",
     "text": [
      "Correct predictions on diagonal: 2374 (84%)\n",
      "Incorrect predictions off diagonal: 452 (16%)\n"
     ]
    }
   ],
   "source": [
    "# Calculate the number and percentage of predictions.\n",
    "\n",
    "correct = sum(np.diagonal(confusion)) # on diag\n",
    "total = confusion.values.sum()\n",
    "incorrect = total - correct # off diag\n",
    "print('Correct predictions on diagonal: {} ({:.0%})'.format( correct, correct / total ))\n",
    "print('Incorrect predictions off diagonal: {} ({:.0%})'.format( incorrect, incorrect / total )) "
   ]
  },
  {
   "cell_type": "code",
   "execution_count": 59,
   "id": "4a0c9774",
   "metadata": {
    "scrolled": true
   },
   "outputs": [
    {
     "name": "stdout",
     "output_type": "stream",
     "text": [
      "              precision    recall  f1-score   support\n",
      "\n",
      "           0       0.84      0.83      0.84      1392\n",
      "           1       0.84      0.85      0.84      1434\n",
      "\n",
      "    accuracy                           0.84      2826\n",
      "   macro avg       0.84      0.84      0.84      2826\n",
      "weighted avg       0.84      0.84      0.84      2826\n",
      "\n"
     ]
    }
   ],
   "source": [
    "# Classification Report\n",
    "print(classification_report(expected, predicted))"
   ]
  },
  {
   "cell_type": "code",
   "execution_count": 60,
   "id": "7edf773d",
   "metadata": {
    "scrolled": true
   },
   "outputs": [
    {
     "data": {
      "image/png": "[encoded data removed]",
      "text/plain": [
       "<Figure size 432x288 with 1 Axes>"
      ]
     },
     "metadata": {
      "needs_background": "light"
     },
     "output_type": "display_data"
    }
   ],
   "source": [
    "# Receiver Operating Characteristic (ROC) curve plot.\n",
    "logit_roc_auc = roc_auc_score(y_test, lgr.predict(X_test))\n",
    "fpr, tpr, thresholds = roc_curve(y_test, lgr.predict_proba(X_test)\n",
    "[:,1])\n",
    "plt.figure()\n",
    "plt.plot(fpr, tpr, label='Logistic Regression (area = %0.2f)' %logit_roc_auc)\n",
    "plt.plot([0, 1], [0, 1],'r--')\n",
    "plt.xlim([0.0, 1.0])\n",
    "plt.ylim([0.0, 1.05])\n",
    "plt.xlabel('False Positive Rate')\n",
    "plt.ylabel('True Positive Rate')\n",
    "plt.title('Receiver operating characteristic')\n",
    "plt.legend(loc=\"lower right\")\n",
    "plt.savefig('Log_ROC')\n",
    "plt.show()"
   ]
  },
  {
   "cell_type": "code",
   "execution_count": 61,
   "id": "79589ea3",
   "metadata": {
    "scrolled": true
   },
   "outputs": [
    {
     "name": "stdout",
     "output_type": "stream",
     "text": [
      "Logit: 0.84\n",
      "Estimate [Churn_Yes] as L = \n",
      "   +4.023 x ( const ) \n",
      "   -0.212 x ( Yearly_equip_failure ) \n",
      "   -0.069 x ( Tenure ) \n",
      "   -0.548 x ( Area_Suburban ) \n",
      "   -0.831 x ( Gender_Nonbinary ) \n",
      "   -2.485 x ( Contract_One year ) \n",
      "   -2.703 x ( Contract_Two Year ) \n",
      "   -0.314 x ( Port_modem_Yes ) \n",
      "   -0.491 x ( Tablet_Yes ) \n",
      "   -1.032 x ( InternetService_Fiber Optic ) \n",
      "   -0.779 x ( Phone_Yes ) \n",
      "   +0.708 x ( Multiple_Yes ) \n",
      "   -0.519 x ( OnlineSecurity_Yes ) \n",
      "   +0.121 x ( OnlineBackup_Yes ) \n",
      "   -0.393 x ( TechSupport_Yes ) \n",
      "   -0.194 x ( PaymentMethod_Check ) \n"
     ]
    }
   ],
   "source": [
    "# Reduced model regression line equation.\n",
    "print('Logit: {:.2f}'.format(logit_roc_auc))\n",
    "equation = result.summary2().tables[1]\n",
    "print('Estimate [{}] as L = '.format(result.summary2().tables[0][1][1]))\n",
    "for i in equation.itertuples():\n",
    "    print('   {:+.3f} x ( {} ) '.format(i[1],i[0]))"
   ]
  },
  {
   "cell_type": "code",
   "execution_count": 62,
   "id": "36722288",
   "metadata": {
    "scrolled": true
   },
   "outputs": [
    {
     "data": {
      "image/png": "[encoded data removed]",
      "text/plain": [
       "<Figure size 432x288 with 1 Axes>"
      ]
     },
     "metadata": {
      "needs_background": "light"
     },
     "output_type": "display_data"
    }
   ],
   "source": [
    "# Log coefficient using exp(x) plot.\n",
    "import matplotlib.pyplot as plt\n",
    "X_coeff = []\n",
    "for i in equation.itertuples():\n",
    "    X_coeff.append(i[1])\n",
    "X_coeff.sort()\n",
    "x = X_coeff\n",
    "y = np.exp(x)\n",
    "plt.figure()\n",
    "plt.plot(X_coeff, y, color=\"red\", marker=\"+\")\n",
    "plt.xlim([-3.0, 2.0])\n",
    "plt.ylim([-0.5, 3.0])\n",
    "plt.xlabel('$x$')\n",
    "plt.ylabel('$\\exp(x)$')\n",
    "plt.show()"
   ]
  },
  {
   "cell_type": "code",
   "execution_count": null,
   "id": "67b9407f",
   "metadata": {
    "scrolled": true
   },
   "outputs": [],
   "source": []
  }
 ],
 "metadata": {
  "kernelspec": {
   "display_name": "Python 3.8.9 64-bit",
   "language": "python",
   "name": "python389jvsc74a57bd031f2aee4e71d21fbe5cf8b01ff0e069b9275f58929596ceb00d14d90e3e16cd6"
  },
  "language_info": {
   "codemirror_mode": {
    "name": "ipython",
    "version": 3
   },
   "file_extension": ".py",
   "mimetype": "text/x-python",
   "name": "python",
   "nbconvert_exporter": "python",
   "pygments_lexer": "ipython3",
   "version": "3.8.9"
  }
 },
 "nbformat": 4,
 "nbformat_minor": 5
}
